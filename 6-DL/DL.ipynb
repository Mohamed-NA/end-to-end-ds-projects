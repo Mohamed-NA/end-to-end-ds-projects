{
 "cells": [
  {
   "cell_type": "code",
   "execution_count": 4,
   "id": "7403ffda",
   "metadata": {},
   "outputs": [],
   "source": [
    "# importing important libraries for data cleaning, wrangling, EDA, and visualisation\n",
    "import pandas as pd\n",
    "import matplotlib.pyplot as plt\n",
    "import seaborn as sns"
   ]
  },
  {
   "cell_type": "code",
   "execution_count": 5,
   "id": "eabd0b0a",
   "metadata": {},
   "outputs": [],
   "source": [
    "# Setting options for pandas\n",
    "pd.set_option('display.max_columns', 200)\n",
    "pd.set_option('display.max_rows', 110530)\n",
    "\n",
    "# Setting options to expand the display of the dataframe\n",
    "pd.set_option('display.expand_frame_repr', True)\n",
    "\n",
    "# Setting option to prevent scilent downcasting \n",
    "pd.set_option('future.no_silent_downcasting', True)"
   ]
  },
  {
   "cell_type": "markdown",
   "id": "f84d1a0b",
   "metadata": {},
   "source": [
    "# Customer_churn_dataset"
   ]
  },
  {
   "cell_type": "code",
   "execution_count": 6,
   "id": "7e7583ed",
   "metadata": {},
   "outputs": [],
   "source": [
    "# read csv file\n",
    "df_churn = pd.read_csv('./customer_churn_dataset_classification_dataset.csv')"
   ]
  },
  {
   "cell_type": "code",
   "execution_count": 7,
   "id": "6b6d1415",
   "metadata": {},
   "outputs": [
    {
     "data": {
      "application/vnd.microsoft.datawrangler.viewer.v0+json": {
       "columns": [
        {
         "name": "index",
         "rawType": "int64",
         "type": "integer"
        },
        {
         "name": "CustomerID",
         "rawType": "float64",
         "type": "float"
        },
        {
         "name": "Age",
         "rawType": "float64",
         "type": "float"
        },
        {
         "name": "Gender",
         "rawType": "object",
         "type": "string"
        },
        {
         "name": "Tenure",
         "rawType": "float64",
         "type": "float"
        },
        {
         "name": "Usage Frequency",
         "rawType": "float64",
         "type": "float"
        },
        {
         "name": "Support Calls",
         "rawType": "float64",
         "type": "float"
        },
        {
         "name": "Payment Delay",
         "rawType": "float64",
         "type": "float"
        },
        {
         "name": "Subscription Type",
         "rawType": "object",
         "type": "string"
        },
        {
         "name": "Contract Length",
         "rawType": "object",
         "type": "string"
        },
        {
         "name": "Total Spend",
         "rawType": "float64",
         "type": "float"
        },
        {
         "name": "Last Interaction",
         "rawType": "float64",
         "type": "float"
        },
        {
         "name": "Churn",
         "rawType": "float64",
         "type": "float"
        }
       ],
       "ref": "ec374a85-0717-4b09-82d2-7a989a868f28",
       "rows": [
        [
         "0",
         "2.0",
         "30.0",
         "Female",
         "39.0",
         "14.0",
         "5.0",
         "18.0",
         "Standard",
         "Annual",
         "932.0",
         "17.0",
         "1.0"
        ],
        [
         "1",
         "3.0",
         "65.0",
         "Female",
         "49.0",
         "1.0",
         "10.0",
         "8.0",
         "Basic",
         "Monthly",
         "557.0",
         "6.0",
         "1.0"
        ],
        [
         "2",
         "4.0",
         "55.0",
         "Female",
         "14.0",
         "4.0",
         "6.0",
         "18.0",
         "Basic",
         "Quarterly",
         "185.0",
         "3.0",
         "1.0"
        ],
        [
         "3",
         "5.0",
         "58.0",
         "Male",
         "38.0",
         "21.0",
         "7.0",
         "7.0",
         "Standard",
         "Monthly",
         "396.0",
         "29.0",
         "1.0"
        ],
        [
         "4",
         "6.0",
         "23.0",
         "Male",
         "32.0",
         "20.0",
         "5.0",
         "8.0",
         "Basic",
         "Monthly",
         "617.0",
         "20.0",
         "1.0"
        ],
        [
         "5",
         "8.0",
         "51.0",
         "Male",
         "33.0",
         "25.0",
         "9.0",
         "26.0",
         "Premium",
         "Annual",
         "129.0",
         "8.0",
         "1.0"
        ],
        [
         "6",
         "9.0",
         "58.0",
         "Female",
         "49.0",
         "12.0",
         "3.0",
         "16.0",
         "Standard",
         "Quarterly",
         "821.0",
         "24.0",
         "1.0"
        ],
        [
         "7",
         "10.0",
         "55.0",
         "Female",
         "37.0",
         "8.0",
         "4.0",
         "15.0",
         "Premium",
         "Annual",
         "445.0",
         "30.0",
         "1.0"
        ],
        [
         "8",
         "11.0",
         "39.0",
         "Male",
         "12.0",
         "5.0",
         "7.0",
         "4.0",
         "Standard",
         "Quarterly",
         "969.0",
         "13.0",
         "1.0"
        ],
        [
         "9",
         "12.0",
         "64.0",
         "Female",
         "3.0",
         "25.0",
         "2.0",
         "11.0",
         "Standard",
         "Quarterly",
         "415.0",
         "29.0",
         "1.0"
        ],
        [
         "10",
         "13.0",
         "29.0",
         "Male",
         "18.0",
         "9.0",
         "0.0",
         "30.0",
         "Premium",
         "Quarterly",
         "930.0",
         "18.0",
         "1.0"
        ],
        [
         "11",
         "14.0",
         "52.0",
         "Female",
         "21.0",
         "6.0",
         "3.0",
         "26.0",
         "Premium",
         "Monthly",
         "830.0",
         "19.0",
         "1.0"
        ],
        [
         "12",
         "15.0",
         "22.0",
         "Male",
         "41.0",
         "17.0",
         "10.0",
         "25.0",
         "Basic",
         "Quarterly",
         "265.0",
         "23.0",
         "1.0"
        ],
        [
         "13",
         "16.0",
         "48.0",
         "Female",
         "35.0",
         "25.0",
         "1.0",
         "13.0",
         "Basic",
         "Annual",
         "518.0",
         "17.0",
         "1.0"
        ],
        [
         "14",
         "17.0",
         "24.0",
         "Male",
         "4.0",
         "9.0",
         "4.0",
         "22.0",
         "Standard",
         "Quarterly",
         "204.0",
         "4.0",
         "1.0"
        ],
        [
         "15",
         "18.0",
         "49.0",
         "Male",
         "56.0",
         "17.0",
         "2.0",
         "30.0",
         "Standard",
         "Quarterly",
         "975.0",
         "17.0",
         "1.0"
        ],
        [
         "16",
         "19.0",
         "19.0",
         "Female",
         "38.0",
         "23.0",
         "7.0",
         "11.0",
         "Basic",
         "Quarterly",
         "978.0",
         "3.0",
         "1.0"
        ],
        [
         "17",
         "20.0",
         "47.0",
         "Male",
         "41.0",
         "14.0",
         "1.0",
         "5.0",
         "Premium",
         "Annual",
         "151.0",
         "19.0",
         "1.0"
        ],
        [
         "18",
         "21.0",
         "24.0",
         "Male",
         "44.0",
         "13.0",
         "5.0",
         "4.0",
         "Premium",
         "Monthly",
         "669.0",
         "13.0",
         "1.0"
        ],
        [
         "19",
         "22.0",
         "42.0",
         "Male",
         "15.0",
         "16.0",
         "2.0",
         "14.0",
         "Premium",
         "Quarterly",
         "262.0",
         "16.0",
         "1.0"
        ]
       ],
       "shape": {
        "columns": 12,
        "rows": 20
       }
      },
      "text/html": [
       "<div>\n",
       "<style scoped>\n",
       "    .dataframe tbody tr th:only-of-type {\n",
       "        vertical-align: middle;\n",
       "    }\n",
       "\n",
       "    .dataframe tbody tr th {\n",
       "        vertical-align: top;\n",
       "    }\n",
       "\n",
       "    .dataframe thead th {\n",
       "        text-align: right;\n",
       "    }\n",
       "</style>\n",
       "<table border=\"1\" class=\"dataframe\">\n",
       "  <thead>\n",
       "    <tr style=\"text-align: right;\">\n",
       "      <th></th>\n",
       "      <th>CustomerID</th>\n",
       "      <th>Age</th>\n",
       "      <th>Gender</th>\n",
       "      <th>Tenure</th>\n",
       "      <th>Usage Frequency</th>\n",
       "      <th>Support Calls</th>\n",
       "      <th>Payment Delay</th>\n",
       "      <th>Subscription Type</th>\n",
       "      <th>Contract Length</th>\n",
       "      <th>Total Spend</th>\n",
       "      <th>Last Interaction</th>\n",
       "      <th>Churn</th>\n",
       "    </tr>\n",
       "  </thead>\n",
       "  <tbody>\n",
       "    <tr>\n",
       "      <th>0</th>\n",
       "      <td>2.0</td>\n",
       "      <td>30.0</td>\n",
       "      <td>Female</td>\n",
       "      <td>39.0</td>\n",
       "      <td>14.0</td>\n",
       "      <td>5.0</td>\n",
       "      <td>18.0</td>\n",
       "      <td>Standard</td>\n",
       "      <td>Annual</td>\n",
       "      <td>932.0</td>\n",
       "      <td>17.0</td>\n",
       "      <td>1.0</td>\n",
       "    </tr>\n",
       "    <tr>\n",
       "      <th>1</th>\n",
       "      <td>3.0</td>\n",
       "      <td>65.0</td>\n",
       "      <td>Female</td>\n",
       "      <td>49.0</td>\n",
       "      <td>1.0</td>\n",
       "      <td>10.0</td>\n",
       "      <td>8.0</td>\n",
       "      <td>Basic</td>\n",
       "      <td>Monthly</td>\n",
       "      <td>557.0</td>\n",
       "      <td>6.0</td>\n",
       "      <td>1.0</td>\n",
       "    </tr>\n",
       "    <tr>\n",
       "      <th>2</th>\n",
       "      <td>4.0</td>\n",
       "      <td>55.0</td>\n",
       "      <td>Female</td>\n",
       "      <td>14.0</td>\n",
       "      <td>4.0</td>\n",
       "      <td>6.0</td>\n",
       "      <td>18.0</td>\n",
       "      <td>Basic</td>\n",
       "      <td>Quarterly</td>\n",
       "      <td>185.0</td>\n",
       "      <td>3.0</td>\n",
       "      <td>1.0</td>\n",
       "    </tr>\n",
       "    <tr>\n",
       "      <th>3</th>\n",
       "      <td>5.0</td>\n",
       "      <td>58.0</td>\n",
       "      <td>Male</td>\n",
       "      <td>38.0</td>\n",
       "      <td>21.0</td>\n",
       "      <td>7.0</td>\n",
       "      <td>7.0</td>\n",
       "      <td>Standard</td>\n",
       "      <td>Monthly</td>\n",
       "      <td>396.0</td>\n",
       "      <td>29.0</td>\n",
       "      <td>1.0</td>\n",
       "    </tr>\n",
       "    <tr>\n",
       "      <th>4</th>\n",
       "      <td>6.0</td>\n",
       "      <td>23.0</td>\n",
       "      <td>Male</td>\n",
       "      <td>32.0</td>\n",
       "      <td>20.0</td>\n",
       "      <td>5.0</td>\n",
       "      <td>8.0</td>\n",
       "      <td>Basic</td>\n",
       "      <td>Monthly</td>\n",
       "      <td>617.0</td>\n",
       "      <td>20.0</td>\n",
       "      <td>1.0</td>\n",
       "    </tr>\n",
       "    <tr>\n",
       "      <th>5</th>\n",
       "      <td>8.0</td>\n",
       "      <td>51.0</td>\n",
       "      <td>Male</td>\n",
       "      <td>33.0</td>\n",
       "      <td>25.0</td>\n",
       "      <td>9.0</td>\n",
       "      <td>26.0</td>\n",
       "      <td>Premium</td>\n",
       "      <td>Annual</td>\n",
       "      <td>129.0</td>\n",
       "      <td>8.0</td>\n",
       "      <td>1.0</td>\n",
       "    </tr>\n",
       "    <tr>\n",
       "      <th>6</th>\n",
       "      <td>9.0</td>\n",
       "      <td>58.0</td>\n",
       "      <td>Female</td>\n",
       "      <td>49.0</td>\n",
       "      <td>12.0</td>\n",
       "      <td>3.0</td>\n",
       "      <td>16.0</td>\n",
       "      <td>Standard</td>\n",
       "      <td>Quarterly</td>\n",
       "      <td>821.0</td>\n",
       "      <td>24.0</td>\n",
       "      <td>1.0</td>\n",
       "    </tr>\n",
       "    <tr>\n",
       "      <th>7</th>\n",
       "      <td>10.0</td>\n",
       "      <td>55.0</td>\n",
       "      <td>Female</td>\n",
       "      <td>37.0</td>\n",
       "      <td>8.0</td>\n",
       "      <td>4.0</td>\n",
       "      <td>15.0</td>\n",
       "      <td>Premium</td>\n",
       "      <td>Annual</td>\n",
       "      <td>445.0</td>\n",
       "      <td>30.0</td>\n",
       "      <td>1.0</td>\n",
       "    </tr>\n",
       "    <tr>\n",
       "      <th>8</th>\n",
       "      <td>11.0</td>\n",
       "      <td>39.0</td>\n",
       "      <td>Male</td>\n",
       "      <td>12.0</td>\n",
       "      <td>5.0</td>\n",
       "      <td>7.0</td>\n",
       "      <td>4.0</td>\n",
       "      <td>Standard</td>\n",
       "      <td>Quarterly</td>\n",
       "      <td>969.0</td>\n",
       "      <td>13.0</td>\n",
       "      <td>1.0</td>\n",
       "    </tr>\n",
       "    <tr>\n",
       "      <th>9</th>\n",
       "      <td>12.0</td>\n",
       "      <td>64.0</td>\n",
       "      <td>Female</td>\n",
       "      <td>3.0</td>\n",
       "      <td>25.0</td>\n",
       "      <td>2.0</td>\n",
       "      <td>11.0</td>\n",
       "      <td>Standard</td>\n",
       "      <td>Quarterly</td>\n",
       "      <td>415.0</td>\n",
       "      <td>29.0</td>\n",
       "      <td>1.0</td>\n",
       "    </tr>\n",
       "    <tr>\n",
       "      <th>10</th>\n",
       "      <td>13.0</td>\n",
       "      <td>29.0</td>\n",
       "      <td>Male</td>\n",
       "      <td>18.0</td>\n",
       "      <td>9.0</td>\n",
       "      <td>0.0</td>\n",
       "      <td>30.0</td>\n",
       "      <td>Premium</td>\n",
       "      <td>Quarterly</td>\n",
       "      <td>930.0</td>\n",
       "      <td>18.0</td>\n",
       "      <td>1.0</td>\n",
       "    </tr>\n",
       "    <tr>\n",
       "      <th>11</th>\n",
       "      <td>14.0</td>\n",
       "      <td>52.0</td>\n",
       "      <td>Female</td>\n",
       "      <td>21.0</td>\n",
       "      <td>6.0</td>\n",
       "      <td>3.0</td>\n",
       "      <td>26.0</td>\n",
       "      <td>Premium</td>\n",
       "      <td>Monthly</td>\n",
       "      <td>830.0</td>\n",
       "      <td>19.0</td>\n",
       "      <td>1.0</td>\n",
       "    </tr>\n",
       "    <tr>\n",
       "      <th>12</th>\n",
       "      <td>15.0</td>\n",
       "      <td>22.0</td>\n",
       "      <td>Male</td>\n",
       "      <td>41.0</td>\n",
       "      <td>17.0</td>\n",
       "      <td>10.0</td>\n",
       "      <td>25.0</td>\n",
       "      <td>Basic</td>\n",
       "      <td>Quarterly</td>\n",
       "      <td>265.0</td>\n",
       "      <td>23.0</td>\n",
       "      <td>1.0</td>\n",
       "    </tr>\n",
       "    <tr>\n",
       "      <th>13</th>\n",
       "      <td>16.0</td>\n",
       "      <td>48.0</td>\n",
       "      <td>Female</td>\n",
       "      <td>35.0</td>\n",
       "      <td>25.0</td>\n",
       "      <td>1.0</td>\n",
       "      <td>13.0</td>\n",
       "      <td>Basic</td>\n",
       "      <td>Annual</td>\n",
       "      <td>518.0</td>\n",
       "      <td>17.0</td>\n",
       "      <td>1.0</td>\n",
       "    </tr>\n",
       "    <tr>\n",
       "      <th>14</th>\n",
       "      <td>17.0</td>\n",
       "      <td>24.0</td>\n",
       "      <td>Male</td>\n",
       "      <td>4.0</td>\n",
       "      <td>9.0</td>\n",
       "      <td>4.0</td>\n",
       "      <td>22.0</td>\n",
       "      <td>Standard</td>\n",
       "      <td>Quarterly</td>\n",
       "      <td>204.0</td>\n",
       "      <td>4.0</td>\n",
       "      <td>1.0</td>\n",
       "    </tr>\n",
       "    <tr>\n",
       "      <th>15</th>\n",
       "      <td>18.0</td>\n",
       "      <td>49.0</td>\n",
       "      <td>Male</td>\n",
       "      <td>56.0</td>\n",
       "      <td>17.0</td>\n",
       "      <td>2.0</td>\n",
       "      <td>30.0</td>\n",
       "      <td>Standard</td>\n",
       "      <td>Quarterly</td>\n",
       "      <td>975.0</td>\n",
       "      <td>17.0</td>\n",
       "      <td>1.0</td>\n",
       "    </tr>\n",
       "    <tr>\n",
       "      <th>16</th>\n",
       "      <td>19.0</td>\n",
       "      <td>19.0</td>\n",
       "      <td>Female</td>\n",
       "      <td>38.0</td>\n",
       "      <td>23.0</td>\n",
       "      <td>7.0</td>\n",
       "      <td>11.0</td>\n",
       "      <td>Basic</td>\n",
       "      <td>Quarterly</td>\n",
       "      <td>978.0</td>\n",
       "      <td>3.0</td>\n",
       "      <td>1.0</td>\n",
       "    </tr>\n",
       "    <tr>\n",
       "      <th>17</th>\n",
       "      <td>20.0</td>\n",
       "      <td>47.0</td>\n",
       "      <td>Male</td>\n",
       "      <td>41.0</td>\n",
       "      <td>14.0</td>\n",
       "      <td>1.0</td>\n",
       "      <td>5.0</td>\n",
       "      <td>Premium</td>\n",
       "      <td>Annual</td>\n",
       "      <td>151.0</td>\n",
       "      <td>19.0</td>\n",
       "      <td>1.0</td>\n",
       "    </tr>\n",
       "    <tr>\n",
       "      <th>18</th>\n",
       "      <td>21.0</td>\n",
       "      <td>24.0</td>\n",
       "      <td>Male</td>\n",
       "      <td>44.0</td>\n",
       "      <td>13.0</td>\n",
       "      <td>5.0</td>\n",
       "      <td>4.0</td>\n",
       "      <td>Premium</td>\n",
       "      <td>Monthly</td>\n",
       "      <td>669.0</td>\n",
       "      <td>13.0</td>\n",
       "      <td>1.0</td>\n",
       "    </tr>\n",
       "    <tr>\n",
       "      <th>19</th>\n",
       "      <td>22.0</td>\n",
       "      <td>42.0</td>\n",
       "      <td>Male</td>\n",
       "      <td>15.0</td>\n",
       "      <td>16.0</td>\n",
       "      <td>2.0</td>\n",
       "      <td>14.0</td>\n",
       "      <td>Premium</td>\n",
       "      <td>Quarterly</td>\n",
       "      <td>262.0</td>\n",
       "      <td>16.0</td>\n",
       "      <td>1.0</td>\n",
       "    </tr>\n",
       "  </tbody>\n",
       "</table>\n",
       "</div>"
      ],
      "text/plain": [
       "    CustomerID   Age  Gender  Tenure  Usage Frequency  Support Calls  \\\n",
       "0          2.0  30.0  Female    39.0             14.0            5.0   \n",
       "1          3.0  65.0  Female    49.0              1.0           10.0   \n",
       "2          4.0  55.0  Female    14.0              4.0            6.0   \n",
       "3          5.0  58.0    Male    38.0             21.0            7.0   \n",
       "4          6.0  23.0    Male    32.0             20.0            5.0   \n",
       "5          8.0  51.0    Male    33.0             25.0            9.0   \n",
       "6          9.0  58.0  Female    49.0             12.0            3.0   \n",
       "7         10.0  55.0  Female    37.0              8.0            4.0   \n",
       "8         11.0  39.0    Male    12.0              5.0            7.0   \n",
       "9         12.0  64.0  Female     3.0             25.0            2.0   \n",
       "10        13.0  29.0    Male    18.0              9.0            0.0   \n",
       "11        14.0  52.0  Female    21.0              6.0            3.0   \n",
       "12        15.0  22.0    Male    41.0             17.0           10.0   \n",
       "13        16.0  48.0  Female    35.0             25.0            1.0   \n",
       "14        17.0  24.0    Male     4.0              9.0            4.0   \n",
       "15        18.0  49.0    Male    56.0             17.0            2.0   \n",
       "16        19.0  19.0  Female    38.0             23.0            7.0   \n",
       "17        20.0  47.0    Male    41.0             14.0            1.0   \n",
       "18        21.0  24.0    Male    44.0             13.0            5.0   \n",
       "19        22.0  42.0    Male    15.0             16.0            2.0   \n",
       "\n",
       "    Payment Delay Subscription Type Contract Length  Total Spend  \\\n",
       "0            18.0          Standard          Annual        932.0   \n",
       "1             8.0             Basic         Monthly        557.0   \n",
       "2            18.0             Basic       Quarterly        185.0   \n",
       "3             7.0          Standard         Monthly        396.0   \n",
       "4             8.0             Basic         Monthly        617.0   \n",
       "5            26.0           Premium          Annual        129.0   \n",
       "6            16.0          Standard       Quarterly        821.0   \n",
       "7            15.0           Premium          Annual        445.0   \n",
       "8             4.0          Standard       Quarterly        969.0   \n",
       "9            11.0          Standard       Quarterly        415.0   \n",
       "10           30.0           Premium       Quarterly        930.0   \n",
       "11           26.0           Premium         Monthly        830.0   \n",
       "12           25.0             Basic       Quarterly        265.0   \n",
       "13           13.0             Basic          Annual        518.0   \n",
       "14           22.0          Standard       Quarterly        204.0   \n",
       "15           30.0          Standard       Quarterly        975.0   \n",
       "16           11.0             Basic       Quarterly        978.0   \n",
       "17            5.0           Premium          Annual        151.0   \n",
       "18            4.0           Premium         Monthly        669.0   \n",
       "19           14.0           Premium       Quarterly        262.0   \n",
       "\n",
       "    Last Interaction  Churn  \n",
       "0               17.0    1.0  \n",
       "1                6.0    1.0  \n",
       "2                3.0    1.0  \n",
       "3               29.0    1.0  \n",
       "4               20.0    1.0  \n",
       "5                8.0    1.0  \n",
       "6               24.0    1.0  \n",
       "7               30.0    1.0  \n",
       "8               13.0    1.0  \n",
       "9               29.0    1.0  \n",
       "10              18.0    1.0  \n",
       "11              19.0    1.0  \n",
       "12              23.0    1.0  \n",
       "13              17.0    1.0  \n",
       "14               4.0    1.0  \n",
       "15              17.0    1.0  \n",
       "16               3.0    1.0  \n",
       "17              19.0    1.0  \n",
       "18              13.0    1.0  \n",
       "19              16.0    1.0  "
      ]
     },
     "execution_count": 7,
     "metadata": {},
     "output_type": "execute_result"
    }
   ],
   "source": [
    "df_churn.head(20)"
   ]
  },
  {
   "cell_type": "code",
   "execution_count": 8,
   "id": "02550e42",
   "metadata": {},
   "outputs": [
    {
     "data": {
      "text/plain": [
       "(440833, 12)"
      ]
     },
     "execution_count": 8,
     "metadata": {},
     "output_type": "execute_result"
    }
   ],
   "source": [
    "df_churn.shape"
   ]
  },
  {
   "cell_type": "code",
   "execution_count": 9,
   "id": "7f92dcac",
   "metadata": {},
   "outputs": [
    {
     "name": "stdout",
     "output_type": "stream",
     "text": [
      "<class 'pandas.core.frame.DataFrame'>\n",
      "RangeIndex: 440833 entries, 0 to 440832\n",
      "Data columns (total 12 columns):\n",
      " #   Column             Non-Null Count   Dtype  \n",
      "---  ------             --------------   -----  \n",
      " 0   CustomerID         440832 non-null  float64\n",
      " 1   Age                440832 non-null  float64\n",
      " 2   Gender             440832 non-null  object \n",
      " 3   Tenure             440832 non-null  float64\n",
      " 4   Usage Frequency    440832 non-null  float64\n",
      " 5   Support Calls      440832 non-null  float64\n",
      " 6   Payment Delay      440832 non-null  float64\n",
      " 7   Subscription Type  440832 non-null  object \n",
      " 8   Contract Length    440832 non-null  object \n",
      " 9   Total Spend        440832 non-null  float64\n",
      " 10  Last Interaction   440832 non-null  float64\n",
      " 11  Churn              440832 non-null  float64\n",
      "dtypes: float64(9), object(3)\n",
      "memory usage: 40.4+ MB\n"
     ]
    }
   ],
   "source": [
    "df_churn.info()"
   ]
  },
  {
   "cell_type": "code",
   "execution_count": 10,
   "id": "3bac98b8",
   "metadata": {},
   "outputs": [
    {
     "data": {
      "application/vnd.microsoft.datawrangler.viewer.v0+json": {
       "columns": [
        {
         "name": "index",
         "rawType": "object",
         "type": "string"
        },
        {
         "name": "0",
         "rawType": "int64",
         "type": "integer"
        }
       ],
       "ref": "7b02d936-7a73-45cd-8eda-cc68a5661975",
       "rows": [
        [
         "CustomerID",
         "1"
        ],
        [
         "Age",
         "1"
        ],
        [
         "Gender",
         "1"
        ],
        [
         "Tenure",
         "1"
        ],
        [
         "Usage Frequency",
         "1"
        ],
        [
         "Support Calls",
         "1"
        ],
        [
         "Payment Delay",
         "1"
        ],
        [
         "Subscription Type",
         "1"
        ],
        [
         "Contract Length",
         "1"
        ],
        [
         "Total Spend",
         "1"
        ],
        [
         "Last Interaction",
         "1"
        ],
        [
         "Churn",
         "1"
        ]
       ],
       "shape": {
        "columns": 1,
        "rows": 12
       }
      },
      "text/plain": [
       "CustomerID           1\n",
       "Age                  1\n",
       "Gender               1\n",
       "Tenure               1\n",
       "Usage Frequency      1\n",
       "Support Calls        1\n",
       "Payment Delay        1\n",
       "Subscription Type    1\n",
       "Contract Length      1\n",
       "Total Spend          1\n",
       "Last Interaction     1\n",
       "Churn                1\n",
       "dtype: int64"
      ]
     },
     "execution_count": 10,
     "metadata": {},
     "output_type": "execute_result"
    }
   ],
   "source": [
    "df_churn.isnull().sum()"
   ]
  },
  {
   "cell_type": "code",
   "execution_count": 11,
   "id": "7dbf40f6",
   "metadata": {},
   "outputs": [],
   "source": [
    "df_churn.dropna(inplace=True)"
   ]
  },
  {
   "cell_type": "code",
   "execution_count": 12,
   "id": "d08a54a4",
   "metadata": {},
   "outputs": [
    {
     "data": {
      "application/vnd.microsoft.datawrangler.viewer.v0+json": {
       "columns": [
        {
         "name": "index",
         "rawType": "object",
         "type": "string"
        },
        {
         "name": "0",
         "rawType": "int64",
         "type": "integer"
        }
       ],
       "ref": "c5e1e72d-b40b-4b2d-9fc8-2ce6cd738787",
       "rows": [
        [
         "CustomerID",
         "0"
        ],
        [
         "Age",
         "0"
        ],
        [
         "Gender",
         "0"
        ],
        [
         "Tenure",
         "0"
        ],
        [
         "Usage Frequency",
         "0"
        ],
        [
         "Support Calls",
         "0"
        ],
        [
         "Payment Delay",
         "0"
        ],
        [
         "Subscription Type",
         "0"
        ],
        [
         "Contract Length",
         "0"
        ],
        [
         "Total Spend",
         "0"
        ],
        [
         "Last Interaction",
         "0"
        ],
        [
         "Churn",
         "0"
        ]
       ],
       "shape": {
        "columns": 1,
        "rows": 12
       }
      },
      "text/plain": [
       "CustomerID           0\n",
       "Age                  0\n",
       "Gender               0\n",
       "Tenure               0\n",
       "Usage Frequency      0\n",
       "Support Calls        0\n",
       "Payment Delay        0\n",
       "Subscription Type    0\n",
       "Contract Length      0\n",
       "Total Spend          0\n",
       "Last Interaction     0\n",
       "Churn                0\n",
       "dtype: int64"
      ]
     },
     "execution_count": 12,
     "metadata": {},
     "output_type": "execute_result"
    }
   ],
   "source": [
    "df_churn.isnull().sum()"
   ]
  },
  {
   "cell_type": "code",
   "execution_count": 13,
   "id": "3e34dc0e",
   "metadata": {},
   "outputs": [
    {
     "data": {
      "text/plain": [
       "0"
      ]
     },
     "execution_count": 13,
     "metadata": {},
     "output_type": "execute_result"
    }
   ],
   "source": [
    "df_churn.duplicated().sum()"
   ]
  },
  {
   "cell_type": "code",
   "execution_count": 14,
   "id": "313d5e27",
   "metadata": {},
   "outputs": [
    {
     "data": {
      "application/vnd.microsoft.datawrangler.viewer.v0+json": {
       "columns": [
        {
         "name": "index",
         "rawType": "object",
         "type": "string"
        },
        {
         "name": "0",
         "rawType": "int64",
         "type": "integer"
        }
       ],
       "ref": "10e012c6-52a0-4c86-90a4-2dc22d06ee3b",
       "rows": [
        [
         "CustomerID",
         "440832"
        ],
        [
         "Age",
         "48"
        ],
        [
         "Gender",
         "2"
        ],
        [
         "Tenure",
         "60"
        ],
        [
         "Usage Frequency",
         "30"
        ],
        [
         "Support Calls",
         "11"
        ],
        [
         "Payment Delay",
         "31"
        ],
        [
         "Subscription Type",
         "3"
        ],
        [
         "Contract Length",
         "3"
        ],
        [
         "Total Spend",
         "68363"
        ],
        [
         "Last Interaction",
         "30"
        ],
        [
         "Churn",
         "2"
        ]
       ],
       "shape": {
        "columns": 1,
        "rows": 12
       }
      },
      "text/plain": [
       "CustomerID           440832\n",
       "Age                      48\n",
       "Gender                    2\n",
       "Tenure                   60\n",
       "Usage Frequency          30\n",
       "Support Calls            11\n",
       "Payment Delay            31\n",
       "Subscription Type         3\n",
       "Contract Length           3\n",
       "Total Spend           68363\n",
       "Last Interaction         30\n",
       "Churn                     2\n",
       "dtype: int64"
      ]
     },
     "execution_count": 14,
     "metadata": {},
     "output_type": "execute_result"
    }
   ],
   "source": [
    "df_churn.nunique()"
   ]
  },
  {
   "cell_type": "code",
   "execution_count": 15,
   "id": "27e86c21",
   "metadata": {},
   "outputs": [
    {
     "data": {
      "application/vnd.microsoft.datawrangler.viewer.v0+json": {
       "columns": [
        {
         "name": "index",
         "rawType": "object",
         "type": "string"
        },
        {
         "name": "count",
         "rawType": "object",
         "type": "unknown"
        },
        {
         "name": "unique",
         "rawType": "object",
         "type": "unknown"
        },
        {
         "name": "top",
         "rawType": "object",
         "type": "string"
        },
        {
         "name": "freq",
         "rawType": "object",
         "type": "unknown"
        }
       ],
       "ref": "7189ec80-fa44-4445-82e8-9c0ece1ab91d",
       "rows": [
        [
         "Gender",
         "440832",
         "2",
         "Male",
         "250252"
        ],
        [
         "Subscription Type",
         "440832",
         "3",
         "Standard",
         "149128"
        ],
        [
         "Contract Length",
         "440832",
         "3",
         "Annual",
         "177198"
        ]
       ],
       "shape": {
        "columns": 4,
        "rows": 3
       }
      },
      "text/html": [
       "<div>\n",
       "<style scoped>\n",
       "    .dataframe tbody tr th:only-of-type {\n",
       "        vertical-align: middle;\n",
       "    }\n",
       "\n",
       "    .dataframe tbody tr th {\n",
       "        vertical-align: top;\n",
       "    }\n",
       "\n",
       "    .dataframe thead th {\n",
       "        text-align: right;\n",
       "    }\n",
       "</style>\n",
       "<table border=\"1\" class=\"dataframe\">\n",
       "  <thead>\n",
       "    <tr style=\"text-align: right;\">\n",
       "      <th></th>\n",
       "      <th>count</th>\n",
       "      <th>unique</th>\n",
       "      <th>top</th>\n",
       "      <th>freq</th>\n",
       "    </tr>\n",
       "  </thead>\n",
       "  <tbody>\n",
       "    <tr>\n",
       "      <th>Gender</th>\n",
       "      <td>440832</td>\n",
       "      <td>2</td>\n",
       "      <td>Male</td>\n",
       "      <td>250252</td>\n",
       "    </tr>\n",
       "    <tr>\n",
       "      <th>Subscription Type</th>\n",
       "      <td>440832</td>\n",
       "      <td>3</td>\n",
       "      <td>Standard</td>\n",
       "      <td>149128</td>\n",
       "    </tr>\n",
       "    <tr>\n",
       "      <th>Contract Length</th>\n",
       "      <td>440832</td>\n",
       "      <td>3</td>\n",
       "      <td>Annual</td>\n",
       "      <td>177198</td>\n",
       "    </tr>\n",
       "  </tbody>\n",
       "</table>\n",
       "</div>"
      ],
      "text/plain": [
       "                    count unique       top    freq\n",
       "Gender             440832      2      Male  250252\n",
       "Subscription Type  440832      3  Standard  149128\n",
       "Contract Length    440832      3    Annual  177198"
      ]
     },
     "execution_count": 15,
     "metadata": {},
     "output_type": "execute_result"
    }
   ],
   "source": [
    "# Summarizing the Categorical columns\n",
    "df_churn.describe(include=['object']).T"
   ]
  },
  {
   "cell_type": "code",
   "execution_count": 16,
   "id": "daa28988",
   "metadata": {},
   "outputs": [
    {
     "data": {
      "application/vnd.microsoft.datawrangler.viewer.v0+json": {
       "columns": [
        {
         "name": "index",
         "rawType": "object",
         "type": "string"
        },
        {
         "name": "count",
         "rawType": "float64",
         "type": "float"
        },
        {
         "name": "mean",
         "rawType": "float64",
         "type": "float"
        },
        {
         "name": "std",
         "rawType": "float64",
         "type": "float"
        },
        {
         "name": "min",
         "rawType": "float64",
         "type": "float"
        },
        {
         "name": "25%",
         "rawType": "float64",
         "type": "float"
        },
        {
         "name": "50%",
         "rawType": "float64",
         "type": "float"
        },
        {
         "name": "75%",
         "rawType": "float64",
         "type": "float"
        },
        {
         "name": "max",
         "rawType": "float64",
         "type": "float"
        }
       ],
       "ref": "a81f1aa2-88fa-4fda-8459-213894edde4f",
       "rows": [
        [
         "CustomerID",
         "440832.0",
         "225398.66795513936",
         "129531.91854954738",
         "2.0",
         "113621.75",
         "226125.5",
         "337739.25",
         "449999.0"
        ],
        [
         "Age",
         "440832.0",
         "39.37315349157956",
         "12.442369490866385",
         "18.0",
         "29.0",
         "39.0",
         "48.0",
         "65.0"
        ],
        [
         "Tenure",
         "440832.0",
         "31.25633574695122",
         "17.255727385041762",
         "1.0",
         "16.0",
         "32.0",
         "46.0",
         "60.0"
        ],
        [
         "Usage Frequency",
         "440832.0",
         "15.80749355763647",
         "8.586241645189258",
         "1.0",
         "9.0",
         "16.0",
         "23.0",
         "30.0"
        ],
        [
         "Support Calls",
         "440832.0",
         "3.6044366107723578",
         "3.070217877693643",
         "0.0",
         "1.0",
         "3.0",
         "6.0",
         "10.0"
        ],
        [
         "Payment Delay",
         "440832.0",
         "12.965721635452962",
         "8.258062517498766",
         "0.0",
         "6.0",
         "12.0",
         "19.0",
         "30.0"
        ],
        [
         "Total Spend",
         "440832.0",
         "631.6162227787459",
         "240.803001120567",
         "100.0",
         "480.0",
         "661.0",
         "830.0",
         "1000.0"
        ],
        [
         "Last Interaction",
         "440832.0",
         "14.480867995063878",
         "8.59620768301929",
         "1.0",
         "7.0",
         "14.0",
         "22.0",
         "30.0"
        ],
        [
         "Churn",
         "440832.0",
         "0.5671071972996515",
         "0.4954767209121152",
         "0.0",
         "0.0",
         "1.0",
         "1.0",
         "1.0"
        ]
       ],
       "shape": {
        "columns": 8,
        "rows": 9
       }
      },
      "text/html": [
       "<div>\n",
       "<style scoped>\n",
       "    .dataframe tbody tr th:only-of-type {\n",
       "        vertical-align: middle;\n",
       "    }\n",
       "\n",
       "    .dataframe tbody tr th {\n",
       "        vertical-align: top;\n",
       "    }\n",
       "\n",
       "    .dataframe thead th {\n",
       "        text-align: right;\n",
       "    }\n",
       "</style>\n",
       "<table border=\"1\" class=\"dataframe\">\n",
       "  <thead>\n",
       "    <tr style=\"text-align: right;\">\n",
       "      <th></th>\n",
       "      <th>count</th>\n",
       "      <th>mean</th>\n",
       "      <th>std</th>\n",
       "      <th>min</th>\n",
       "      <th>25%</th>\n",
       "      <th>50%</th>\n",
       "      <th>75%</th>\n",
       "      <th>max</th>\n",
       "    </tr>\n",
       "  </thead>\n",
       "  <tbody>\n",
       "    <tr>\n",
       "      <th>CustomerID</th>\n",
       "      <td>440832.0</td>\n",
       "      <td>225398.667955</td>\n",
       "      <td>129531.918550</td>\n",
       "      <td>2.0</td>\n",
       "      <td>113621.75</td>\n",
       "      <td>226125.5</td>\n",
       "      <td>337739.25</td>\n",
       "      <td>449999.0</td>\n",
       "    </tr>\n",
       "    <tr>\n",
       "      <th>Age</th>\n",
       "      <td>440832.0</td>\n",
       "      <td>39.373153</td>\n",
       "      <td>12.442369</td>\n",
       "      <td>18.0</td>\n",
       "      <td>29.00</td>\n",
       "      <td>39.0</td>\n",
       "      <td>48.00</td>\n",
       "      <td>65.0</td>\n",
       "    </tr>\n",
       "    <tr>\n",
       "      <th>Tenure</th>\n",
       "      <td>440832.0</td>\n",
       "      <td>31.256336</td>\n",
       "      <td>17.255727</td>\n",
       "      <td>1.0</td>\n",
       "      <td>16.00</td>\n",
       "      <td>32.0</td>\n",
       "      <td>46.00</td>\n",
       "      <td>60.0</td>\n",
       "    </tr>\n",
       "    <tr>\n",
       "      <th>Usage Frequency</th>\n",
       "      <td>440832.0</td>\n",
       "      <td>15.807494</td>\n",
       "      <td>8.586242</td>\n",
       "      <td>1.0</td>\n",
       "      <td>9.00</td>\n",
       "      <td>16.0</td>\n",
       "      <td>23.00</td>\n",
       "      <td>30.0</td>\n",
       "    </tr>\n",
       "    <tr>\n",
       "      <th>Support Calls</th>\n",
       "      <td>440832.0</td>\n",
       "      <td>3.604437</td>\n",
       "      <td>3.070218</td>\n",
       "      <td>0.0</td>\n",
       "      <td>1.00</td>\n",
       "      <td>3.0</td>\n",
       "      <td>6.00</td>\n",
       "      <td>10.0</td>\n",
       "    </tr>\n",
       "    <tr>\n",
       "      <th>Payment Delay</th>\n",
       "      <td>440832.0</td>\n",
       "      <td>12.965722</td>\n",
       "      <td>8.258063</td>\n",
       "      <td>0.0</td>\n",
       "      <td>6.00</td>\n",
       "      <td>12.0</td>\n",
       "      <td>19.00</td>\n",
       "      <td>30.0</td>\n",
       "    </tr>\n",
       "    <tr>\n",
       "      <th>Total Spend</th>\n",
       "      <td>440832.0</td>\n",
       "      <td>631.616223</td>\n",
       "      <td>240.803001</td>\n",
       "      <td>100.0</td>\n",
       "      <td>480.00</td>\n",
       "      <td>661.0</td>\n",
       "      <td>830.00</td>\n",
       "      <td>1000.0</td>\n",
       "    </tr>\n",
       "    <tr>\n",
       "      <th>Last Interaction</th>\n",
       "      <td>440832.0</td>\n",
       "      <td>14.480868</td>\n",
       "      <td>8.596208</td>\n",
       "      <td>1.0</td>\n",
       "      <td>7.00</td>\n",
       "      <td>14.0</td>\n",
       "      <td>22.00</td>\n",
       "      <td>30.0</td>\n",
       "    </tr>\n",
       "    <tr>\n",
       "      <th>Churn</th>\n",
       "      <td>440832.0</td>\n",
       "      <td>0.567107</td>\n",
       "      <td>0.495477</td>\n",
       "      <td>0.0</td>\n",
       "      <td>0.00</td>\n",
       "      <td>1.0</td>\n",
       "      <td>1.00</td>\n",
       "      <td>1.0</td>\n",
       "    </tr>\n",
       "  </tbody>\n",
       "</table>\n",
       "</div>"
      ],
      "text/plain": [
       "                     count           mean            std    min        25%  \\\n",
       "CustomerID        440832.0  225398.667955  129531.918550    2.0  113621.75   \n",
       "Age               440832.0      39.373153      12.442369   18.0      29.00   \n",
       "Tenure            440832.0      31.256336      17.255727    1.0      16.00   \n",
       "Usage Frequency   440832.0      15.807494       8.586242    1.0       9.00   \n",
       "Support Calls     440832.0       3.604437       3.070218    0.0       1.00   \n",
       "Payment Delay     440832.0      12.965722       8.258063    0.0       6.00   \n",
       "Total Spend       440832.0     631.616223     240.803001  100.0     480.00   \n",
       "Last Interaction  440832.0      14.480868       8.596208    1.0       7.00   \n",
       "Churn             440832.0       0.567107       0.495477    0.0       0.00   \n",
       "\n",
       "                       50%        75%       max  \n",
       "CustomerID        226125.5  337739.25  449999.0  \n",
       "Age                   39.0      48.00      65.0  \n",
       "Tenure                32.0      46.00      60.0  \n",
       "Usage Frequency       16.0      23.00      30.0  \n",
       "Support Calls          3.0       6.00      10.0  \n",
       "Payment Delay         12.0      19.00      30.0  \n",
       "Total Spend          661.0     830.00    1000.0  \n",
       "Last Interaction      14.0      22.00      30.0  \n",
       "Churn                  1.0       1.00       1.0  "
      ]
     },
     "execution_count": 16,
     "metadata": {},
     "output_type": "execute_result"
    }
   ],
   "source": [
    "# Summarizing the numerical columns\n",
    "df_churn.describe().T"
   ]
  },
  {
   "cell_type": "code",
   "execution_count": 17,
   "id": "ace7bf2e",
   "metadata": {},
   "outputs": [
    {
     "data": {
      "application/vnd.microsoft.datawrangler.viewer.v0+json": {
       "columns": [
        {
         "name": "index",
         "rawType": "object",
         "type": "string"
        },
        {
         "name": "CustomerID",
         "rawType": "float64",
         "type": "float"
        },
        {
         "name": "Age",
         "rawType": "float64",
         "type": "float"
        },
        {
         "name": "Tenure",
         "rawType": "float64",
         "type": "float"
        },
        {
         "name": "Usage Frequency",
         "rawType": "float64",
         "type": "float"
        },
        {
         "name": "Support Calls",
         "rawType": "float64",
         "type": "float"
        },
        {
         "name": "Payment Delay",
         "rawType": "float64",
         "type": "float"
        },
        {
         "name": "Total Spend",
         "rawType": "float64",
         "type": "float"
        },
        {
         "name": "Last Interaction",
         "rawType": "float64",
         "type": "float"
        },
        {
         "name": "Churn",
         "rawType": "float64",
         "type": "float"
        }
       ],
       "ref": "cfaec25f-fd39-4188-9a12-bafda0f5ad60",
       "rows": [
        [
         "CustomerID",
         "1.0",
         "-0.18197670157021137",
         "0.04412942719013047",
         "0.03845475740326722",
         "-0.48289420707824066",
         "-0.2620294957792718",
         "0.3592889427261682",
         "-0.12535560676661414",
         "-0.8393651488368329"
        ],
        [
         "Age",
         "-0.18197670157021137",
         "1.0",
         "-0.011630231938244072",
         "-0.007189942146243956",
         "0.1584511917002604",
         "0.06173801984102024",
         "-0.08468448959923286",
         "0.028979784591148965",
         "0.21839391857714757"
        ],
        [
         "Tenure",
         "0.04412942719013047",
         "-0.011630231938244072",
         "1.0",
         "-0.026799868625601533",
         "-0.027640410426281337",
         "-0.016588044950946616",
         "0.019005739291167206",
         "-0.006903220159307578",
         "-0.05191895648088395"
        ],
        [
         "Usage Frequency",
         "0.03845475740326722",
         "-0.007189942146243956",
         "-0.026799868625601533",
         "1.0",
         "-0.02201266230429851",
         "-0.014469770104991989",
         "0.018631148192907974",
         "-0.004661938210295692",
         "-0.04610092284992935"
        ],
        [
         "Support Calls",
         "-0.48289420707824066",
         "0.1584511917002604",
         "-0.027640410426281337",
         "-0.02201266230429851",
         "1.0",
         "0.1628886814406401",
         "-0.2215936717028085",
         "0.07768449696467246",
         "0.5742671326590044"
        ],
        [
         "Payment Delay",
         "-0.2620294957792718",
         "0.06173801984102024",
         "-0.016588044950946616",
         "-0.014469770104991989",
         "0.1628886814406401",
         "1.0",
         "-0.12104425252484807",
         "0.042707878585607775",
         "0.31212927574132066"
        ],
        [
         "Total Spend",
         "0.3592889427261682",
         "-0.08468448959923286",
         "0.019005739291167206",
         "0.018631148192907974",
         "-0.2215936717028085",
         "-0.12104425252484807",
         "1.0",
         "-0.0568898232697025",
         "-0.4293548243215598"
        ],
        [
         "Last Interaction",
         "-0.12535560676661414",
         "0.028979784591148965",
         "-0.006903220159307578",
         "-0.004661938210295692",
         "0.07768449696467246",
         "0.042707878585607775",
         "-0.0568898232697025",
         "1.0",
         "0.14961599724951039"
        ],
        [
         "Churn",
         "-0.8393651488368329",
         "0.21839391857714757",
         "-0.05191895648088395",
         "-0.04610092284992935",
         "0.5742671326590044",
         "0.31212927574132066",
         "-0.4293548243215598",
         "0.14961599724951039",
         "1.0"
        ]
       ],
       "shape": {
        "columns": 9,
        "rows": 9
       }
      },
      "text/html": [
       "<div>\n",
       "<style scoped>\n",
       "    .dataframe tbody tr th:only-of-type {\n",
       "        vertical-align: middle;\n",
       "    }\n",
       "\n",
       "    .dataframe tbody tr th {\n",
       "        vertical-align: top;\n",
       "    }\n",
       "\n",
       "    .dataframe thead th {\n",
       "        text-align: right;\n",
       "    }\n",
       "</style>\n",
       "<table border=\"1\" class=\"dataframe\">\n",
       "  <thead>\n",
       "    <tr style=\"text-align: right;\">\n",
       "      <th></th>\n",
       "      <th>CustomerID</th>\n",
       "      <th>Age</th>\n",
       "      <th>Tenure</th>\n",
       "      <th>Usage Frequency</th>\n",
       "      <th>Support Calls</th>\n",
       "      <th>Payment Delay</th>\n",
       "      <th>Total Spend</th>\n",
       "      <th>Last Interaction</th>\n",
       "      <th>Churn</th>\n",
       "    </tr>\n",
       "  </thead>\n",
       "  <tbody>\n",
       "    <tr>\n",
       "      <th>CustomerID</th>\n",
       "      <td>1.000000</td>\n",
       "      <td>-0.181977</td>\n",
       "      <td>0.044129</td>\n",
       "      <td>0.038455</td>\n",
       "      <td>-0.482894</td>\n",
       "      <td>-0.262029</td>\n",
       "      <td>0.359289</td>\n",
       "      <td>-0.125356</td>\n",
       "      <td>-0.839365</td>\n",
       "    </tr>\n",
       "    <tr>\n",
       "      <th>Age</th>\n",
       "      <td>-0.181977</td>\n",
       "      <td>1.000000</td>\n",
       "      <td>-0.011630</td>\n",
       "      <td>-0.007190</td>\n",
       "      <td>0.158451</td>\n",
       "      <td>0.061738</td>\n",
       "      <td>-0.084684</td>\n",
       "      <td>0.028980</td>\n",
       "      <td>0.218394</td>\n",
       "    </tr>\n",
       "    <tr>\n",
       "      <th>Tenure</th>\n",
       "      <td>0.044129</td>\n",
       "      <td>-0.011630</td>\n",
       "      <td>1.000000</td>\n",
       "      <td>-0.026800</td>\n",
       "      <td>-0.027640</td>\n",
       "      <td>-0.016588</td>\n",
       "      <td>0.019006</td>\n",
       "      <td>-0.006903</td>\n",
       "      <td>-0.051919</td>\n",
       "    </tr>\n",
       "    <tr>\n",
       "      <th>Usage Frequency</th>\n",
       "      <td>0.038455</td>\n",
       "      <td>-0.007190</td>\n",
       "      <td>-0.026800</td>\n",
       "      <td>1.000000</td>\n",
       "      <td>-0.022013</td>\n",
       "      <td>-0.014470</td>\n",
       "      <td>0.018631</td>\n",
       "      <td>-0.004662</td>\n",
       "      <td>-0.046101</td>\n",
       "    </tr>\n",
       "    <tr>\n",
       "      <th>Support Calls</th>\n",
       "      <td>-0.482894</td>\n",
       "      <td>0.158451</td>\n",
       "      <td>-0.027640</td>\n",
       "      <td>-0.022013</td>\n",
       "      <td>1.000000</td>\n",
       "      <td>0.162889</td>\n",
       "      <td>-0.221594</td>\n",
       "      <td>0.077684</td>\n",
       "      <td>0.574267</td>\n",
       "    </tr>\n",
       "    <tr>\n",
       "      <th>Payment Delay</th>\n",
       "      <td>-0.262029</td>\n",
       "      <td>0.061738</td>\n",
       "      <td>-0.016588</td>\n",
       "      <td>-0.014470</td>\n",
       "      <td>0.162889</td>\n",
       "      <td>1.000000</td>\n",
       "      <td>-0.121044</td>\n",
       "      <td>0.042708</td>\n",
       "      <td>0.312129</td>\n",
       "    </tr>\n",
       "    <tr>\n",
       "      <th>Total Spend</th>\n",
       "      <td>0.359289</td>\n",
       "      <td>-0.084684</td>\n",
       "      <td>0.019006</td>\n",
       "      <td>0.018631</td>\n",
       "      <td>-0.221594</td>\n",
       "      <td>-0.121044</td>\n",
       "      <td>1.000000</td>\n",
       "      <td>-0.056890</td>\n",
       "      <td>-0.429355</td>\n",
       "    </tr>\n",
       "    <tr>\n",
       "      <th>Last Interaction</th>\n",
       "      <td>-0.125356</td>\n",
       "      <td>0.028980</td>\n",
       "      <td>-0.006903</td>\n",
       "      <td>-0.004662</td>\n",
       "      <td>0.077684</td>\n",
       "      <td>0.042708</td>\n",
       "      <td>-0.056890</td>\n",
       "      <td>1.000000</td>\n",
       "      <td>0.149616</td>\n",
       "    </tr>\n",
       "    <tr>\n",
       "      <th>Churn</th>\n",
       "      <td>-0.839365</td>\n",
       "      <td>0.218394</td>\n",
       "      <td>-0.051919</td>\n",
       "      <td>-0.046101</td>\n",
       "      <td>0.574267</td>\n",
       "      <td>0.312129</td>\n",
       "      <td>-0.429355</td>\n",
       "      <td>0.149616</td>\n",
       "      <td>1.000000</td>\n",
       "    </tr>\n",
       "  </tbody>\n",
       "</table>\n",
       "</div>"
      ],
      "text/plain": [
       "                  CustomerID       Age    Tenure  Usage Frequency  \\\n",
       "CustomerID          1.000000 -0.181977  0.044129         0.038455   \n",
       "Age                -0.181977  1.000000 -0.011630        -0.007190   \n",
       "Tenure              0.044129 -0.011630  1.000000        -0.026800   \n",
       "Usage Frequency     0.038455 -0.007190 -0.026800         1.000000   \n",
       "Support Calls      -0.482894  0.158451 -0.027640        -0.022013   \n",
       "Payment Delay      -0.262029  0.061738 -0.016588        -0.014470   \n",
       "Total Spend         0.359289 -0.084684  0.019006         0.018631   \n",
       "Last Interaction   -0.125356  0.028980 -0.006903        -0.004662   \n",
       "Churn              -0.839365  0.218394 -0.051919        -0.046101   \n",
       "\n",
       "                  Support Calls  Payment Delay  Total Spend  Last Interaction  \\\n",
       "CustomerID            -0.482894      -0.262029     0.359289         -0.125356   \n",
       "Age                    0.158451       0.061738    -0.084684          0.028980   \n",
       "Tenure                -0.027640      -0.016588     0.019006         -0.006903   \n",
       "Usage Frequency       -0.022013      -0.014470     0.018631         -0.004662   \n",
       "Support Calls          1.000000       0.162889    -0.221594          0.077684   \n",
       "Payment Delay          0.162889       1.000000    -0.121044          0.042708   \n",
       "Total Spend           -0.221594      -0.121044     1.000000         -0.056890   \n",
       "Last Interaction       0.077684       0.042708    -0.056890          1.000000   \n",
       "Churn                  0.574267       0.312129    -0.429355          0.149616   \n",
       "\n",
       "                     Churn  \n",
       "CustomerID       -0.839365  \n",
       "Age               0.218394  \n",
       "Tenure           -0.051919  \n",
       "Usage Frequency  -0.046101  \n",
       "Support Calls     0.574267  \n",
       "Payment Delay     0.312129  \n",
       "Total Spend      -0.429355  \n",
       "Last Interaction  0.149616  \n",
       "Churn             1.000000  "
      ]
     },
     "execution_count": 17,
     "metadata": {},
     "output_type": "execute_result"
    }
   ],
   "source": [
    "df_churn.corr(numeric_only=True)"
   ]
  },
  {
   "cell_type": "code",
   "execution_count": 18,
   "id": "bedc2820",
   "metadata": {},
   "outputs": [
    {
     "data": {
      "application/vnd.microsoft.datawrangler.viewer.v0+json": {
       "columns": [
        {
         "name": "index",
         "rawType": "int64",
         "type": "integer"
        },
        {
         "name": "Age",
         "rawType": "float64",
         "type": "float"
        },
        {
         "name": "Gender",
         "rawType": "object",
         "type": "string"
        },
        {
         "name": "Tenure",
         "rawType": "float64",
         "type": "float"
        },
        {
         "name": "Usage Frequency",
         "rawType": "float64",
         "type": "float"
        },
        {
         "name": "Support Calls",
         "rawType": "float64",
         "type": "float"
        },
        {
         "name": "Payment Delay",
         "rawType": "float64",
         "type": "float"
        },
        {
         "name": "Subscription Type",
         "rawType": "object",
         "type": "string"
        },
        {
         "name": "Contract Length",
         "rawType": "object",
         "type": "string"
        },
        {
         "name": "Total Spend",
         "rawType": "float64",
         "type": "float"
        },
        {
         "name": "Last Interaction",
         "rawType": "float64",
         "type": "float"
        },
        {
         "name": "Churn",
         "rawType": "float64",
         "type": "float"
        }
       ],
       "ref": "2f301c39-70ea-4d91-8d03-09f0fac8c0e6",
       "rows": [
        [
         "0",
         "30.0",
         "Female",
         "39.0",
         "14.0",
         "5.0",
         "18.0",
         "Standard",
         "Annual",
         "932.0",
         "17.0",
         "1.0"
        ],
        [
         "1",
         "65.0",
         "Female",
         "49.0",
         "1.0",
         "10.0",
         "8.0",
         "Basic",
         "Monthly",
         "557.0",
         "6.0",
         "1.0"
        ],
        [
         "2",
         "55.0",
         "Female",
         "14.0",
         "4.0",
         "6.0",
         "18.0",
         "Basic",
         "Quarterly",
         "185.0",
         "3.0",
         "1.0"
        ],
        [
         "3",
         "58.0",
         "Male",
         "38.0",
         "21.0",
         "7.0",
         "7.0",
         "Standard",
         "Monthly",
         "396.0",
         "29.0",
         "1.0"
        ],
        [
         "4",
         "23.0",
         "Male",
         "32.0",
         "20.0",
         "5.0",
         "8.0",
         "Basic",
         "Monthly",
         "617.0",
         "20.0",
         "1.0"
        ]
       ],
       "shape": {
        "columns": 11,
        "rows": 5
       }
      },
      "text/html": [
       "<div>\n",
       "<style scoped>\n",
       "    .dataframe tbody tr th:only-of-type {\n",
       "        vertical-align: middle;\n",
       "    }\n",
       "\n",
       "    .dataframe tbody tr th {\n",
       "        vertical-align: top;\n",
       "    }\n",
       "\n",
       "    .dataframe thead th {\n",
       "        text-align: right;\n",
       "    }\n",
       "</style>\n",
       "<table border=\"1\" class=\"dataframe\">\n",
       "  <thead>\n",
       "    <tr style=\"text-align: right;\">\n",
       "      <th></th>\n",
       "      <th>Age</th>\n",
       "      <th>Gender</th>\n",
       "      <th>Tenure</th>\n",
       "      <th>Usage Frequency</th>\n",
       "      <th>Support Calls</th>\n",
       "      <th>Payment Delay</th>\n",
       "      <th>Subscription Type</th>\n",
       "      <th>Contract Length</th>\n",
       "      <th>Total Spend</th>\n",
       "      <th>Last Interaction</th>\n",
       "      <th>Churn</th>\n",
       "    </tr>\n",
       "  </thead>\n",
       "  <tbody>\n",
       "    <tr>\n",
       "      <th>0</th>\n",
       "      <td>30.0</td>\n",
       "      <td>Female</td>\n",
       "      <td>39.0</td>\n",
       "      <td>14.0</td>\n",
       "      <td>5.0</td>\n",
       "      <td>18.0</td>\n",
       "      <td>Standard</td>\n",
       "      <td>Annual</td>\n",
       "      <td>932.0</td>\n",
       "      <td>17.0</td>\n",
       "      <td>1.0</td>\n",
       "    </tr>\n",
       "    <tr>\n",
       "      <th>1</th>\n",
       "      <td>65.0</td>\n",
       "      <td>Female</td>\n",
       "      <td>49.0</td>\n",
       "      <td>1.0</td>\n",
       "      <td>10.0</td>\n",
       "      <td>8.0</td>\n",
       "      <td>Basic</td>\n",
       "      <td>Monthly</td>\n",
       "      <td>557.0</td>\n",
       "      <td>6.0</td>\n",
       "      <td>1.0</td>\n",
       "    </tr>\n",
       "    <tr>\n",
       "      <th>2</th>\n",
       "      <td>55.0</td>\n",
       "      <td>Female</td>\n",
       "      <td>14.0</td>\n",
       "      <td>4.0</td>\n",
       "      <td>6.0</td>\n",
       "      <td>18.0</td>\n",
       "      <td>Basic</td>\n",
       "      <td>Quarterly</td>\n",
       "      <td>185.0</td>\n",
       "      <td>3.0</td>\n",
       "      <td>1.0</td>\n",
       "    </tr>\n",
       "    <tr>\n",
       "      <th>3</th>\n",
       "      <td>58.0</td>\n",
       "      <td>Male</td>\n",
       "      <td>38.0</td>\n",
       "      <td>21.0</td>\n",
       "      <td>7.0</td>\n",
       "      <td>7.0</td>\n",
       "      <td>Standard</td>\n",
       "      <td>Monthly</td>\n",
       "      <td>396.0</td>\n",
       "      <td>29.0</td>\n",
       "      <td>1.0</td>\n",
       "    </tr>\n",
       "    <tr>\n",
       "      <th>4</th>\n",
       "      <td>23.0</td>\n",
       "      <td>Male</td>\n",
       "      <td>32.0</td>\n",
       "      <td>20.0</td>\n",
       "      <td>5.0</td>\n",
       "      <td>8.0</td>\n",
       "      <td>Basic</td>\n",
       "      <td>Monthly</td>\n",
       "      <td>617.0</td>\n",
       "      <td>20.0</td>\n",
       "      <td>1.0</td>\n",
       "    </tr>\n",
       "  </tbody>\n",
       "</table>\n",
       "</div>"
      ],
      "text/plain": [
       "    Age  Gender  Tenure  Usage Frequency  Support Calls  Payment Delay  \\\n",
       "0  30.0  Female    39.0             14.0            5.0           18.0   \n",
       "1  65.0  Female    49.0              1.0           10.0            8.0   \n",
       "2  55.0  Female    14.0              4.0            6.0           18.0   \n",
       "3  58.0    Male    38.0             21.0            7.0            7.0   \n",
       "4  23.0    Male    32.0             20.0            5.0            8.0   \n",
       "\n",
       "  Subscription Type Contract Length  Total Spend  Last Interaction  Churn  \n",
       "0          Standard          Annual        932.0              17.0    1.0  \n",
       "1             Basic         Monthly        557.0               6.0    1.0  \n",
       "2             Basic       Quarterly        185.0               3.0    1.0  \n",
       "3          Standard         Monthly        396.0              29.0    1.0  \n",
       "4             Basic         Monthly        617.0              20.0    1.0  "
      ]
     },
     "execution_count": 18,
     "metadata": {},
     "output_type": "execute_result"
    }
   ],
   "source": [
    "# Dropping CustomerID since it has no real value or meaning in our analysis\n",
    "df_churn = df_churn.drop('CustomerID', axis=1)\n",
    "df_churn.head()"
   ]
  },
  {
   "cell_type": "code",
   "execution_count": 19,
   "id": "f90e954a",
   "metadata": {},
   "outputs": [],
   "source": [
    "# Changing data types from float64 to int64 since all values are whole numbers \n",
    "df_churn[df_churn.select_dtypes(include='float64').columns] = df_churn.select_dtypes(include='float64').round().astype('int64')"
   ]
  },
  {
   "cell_type": "code",
   "execution_count": 20,
   "id": "e1792c0a",
   "metadata": {},
   "outputs": [
    {
     "name": "stdout",
     "output_type": "stream",
     "text": [
      "Age: [30 65 55 58 23]\n",
      "Gender: ['Female' 'Male']\n",
      "Tenure: [39 49 14 38 32]\n",
      "Usage Frequency: [14  1  4 21 20]\n",
      "Support Calls: [ 5 10  6  7  9]\n",
      "Payment Delay: [18  8  7 26 16]\n",
      "Subscription Type: ['Standard' 'Basic' 'Premium']\n",
      "Contract Length: ['Annual' 'Monthly' 'Quarterly']\n",
      "Total Spend: [932 557 185 396 617]\n",
      "Last Interaction: [17  6  3 29 20]\n",
      "Churn: [1 0]\n"
     ]
    }
   ],
   "source": [
    "# Displaying the first 5 unique values of each column to understand the data better\n",
    "for col in df_churn.columns:\n",
    "    print(f'{col}: {df_churn[col].unique()[:5]}')"
   ]
  },
  {
   "cell_type": "markdown",
   "id": "13133799",
   "metadata": {},
   "source": [
    "## Feature Engineering"
   ]
  },
  {
   "cell_type": "code",
   "execution_count": 21,
   "id": "ace676f3",
   "metadata": {},
   "outputs": [
    {
     "data": {
      "application/vnd.microsoft.datawrangler.viewer.v0+json": {
       "columns": [
        {
         "name": "index",
         "rawType": "int64",
         "type": "integer"
        },
        {
         "name": "Age",
         "rawType": "int64",
         "type": "integer"
        },
        {
         "name": "Tenure",
         "rawType": "int64",
         "type": "integer"
        },
        {
         "name": "Usage Frequency",
         "rawType": "int64",
         "type": "integer"
        },
        {
         "name": "Support Calls",
         "rawType": "int64",
         "type": "integer"
        },
        {
         "name": "Payment Delay",
         "rawType": "int64",
         "type": "integer"
        },
        {
         "name": "Total Spend",
         "rawType": "int64",
         "type": "integer"
        },
        {
         "name": "Last Interaction",
         "rawType": "int64",
         "type": "integer"
        },
        {
         "name": "Churn",
         "rawType": "int64",
         "type": "integer"
        },
        {
         "name": "Gender_Male",
         "rawType": "bool",
         "type": "boolean"
        },
        {
         "name": "Subscription Type_Premium",
         "rawType": "bool",
         "type": "boolean"
        },
        {
         "name": "Subscription Type_Standard",
         "rawType": "bool",
         "type": "boolean"
        },
        {
         "name": "Contract Length_Monthly",
         "rawType": "bool",
         "type": "boolean"
        },
        {
         "name": "Contract Length_Quarterly",
         "rawType": "bool",
         "type": "boolean"
        }
       ],
       "ref": "6d36da57-c173-4e67-9d3b-380d0cb579a0",
       "rows": [
        [
         "0",
         "30",
         "39",
         "14",
         "5",
         "18",
         "932",
         "17",
         "1",
         "False",
         "False",
         "True",
         "False",
         "False"
        ],
        [
         "1",
         "65",
         "49",
         "1",
         "10",
         "8",
         "557",
         "6",
         "1",
         "False",
         "False",
         "False",
         "True",
         "False"
        ],
        [
         "2",
         "55",
         "14",
         "4",
         "6",
         "18",
         "185",
         "3",
         "1",
         "False",
         "False",
         "False",
         "False",
         "True"
        ],
        [
         "3",
         "58",
         "38",
         "21",
         "7",
         "7",
         "396",
         "29",
         "1",
         "True",
         "False",
         "True",
         "True",
         "False"
        ],
        [
         "4",
         "23",
         "32",
         "20",
         "5",
         "8",
         "617",
         "20",
         "1",
         "True",
         "False",
         "False",
         "True",
         "False"
        ]
       ],
       "shape": {
        "columns": 13,
        "rows": 5
       }
      },
      "text/html": [
       "<div>\n",
       "<style scoped>\n",
       "    .dataframe tbody tr th:only-of-type {\n",
       "        vertical-align: middle;\n",
       "    }\n",
       "\n",
       "    .dataframe tbody tr th {\n",
       "        vertical-align: top;\n",
       "    }\n",
       "\n",
       "    .dataframe thead th {\n",
       "        text-align: right;\n",
       "    }\n",
       "</style>\n",
       "<table border=\"1\" class=\"dataframe\">\n",
       "  <thead>\n",
       "    <tr style=\"text-align: right;\">\n",
       "      <th></th>\n",
       "      <th>Age</th>\n",
       "      <th>Tenure</th>\n",
       "      <th>Usage Frequency</th>\n",
       "      <th>Support Calls</th>\n",
       "      <th>Payment Delay</th>\n",
       "      <th>Total Spend</th>\n",
       "      <th>Last Interaction</th>\n",
       "      <th>Churn</th>\n",
       "      <th>Gender_Male</th>\n",
       "      <th>Subscription Type_Premium</th>\n",
       "      <th>Subscription Type_Standard</th>\n",
       "      <th>Contract Length_Monthly</th>\n",
       "      <th>Contract Length_Quarterly</th>\n",
       "    </tr>\n",
       "  </thead>\n",
       "  <tbody>\n",
       "    <tr>\n",
       "      <th>0</th>\n",
       "      <td>30</td>\n",
       "      <td>39</td>\n",
       "      <td>14</td>\n",
       "      <td>5</td>\n",
       "      <td>18</td>\n",
       "      <td>932</td>\n",
       "      <td>17</td>\n",
       "      <td>1</td>\n",
       "      <td>False</td>\n",
       "      <td>False</td>\n",
       "      <td>True</td>\n",
       "      <td>False</td>\n",
       "      <td>False</td>\n",
       "    </tr>\n",
       "    <tr>\n",
       "      <th>1</th>\n",
       "      <td>65</td>\n",
       "      <td>49</td>\n",
       "      <td>1</td>\n",
       "      <td>10</td>\n",
       "      <td>8</td>\n",
       "      <td>557</td>\n",
       "      <td>6</td>\n",
       "      <td>1</td>\n",
       "      <td>False</td>\n",
       "      <td>False</td>\n",
       "      <td>False</td>\n",
       "      <td>True</td>\n",
       "      <td>False</td>\n",
       "    </tr>\n",
       "    <tr>\n",
       "      <th>2</th>\n",
       "      <td>55</td>\n",
       "      <td>14</td>\n",
       "      <td>4</td>\n",
       "      <td>6</td>\n",
       "      <td>18</td>\n",
       "      <td>185</td>\n",
       "      <td>3</td>\n",
       "      <td>1</td>\n",
       "      <td>False</td>\n",
       "      <td>False</td>\n",
       "      <td>False</td>\n",
       "      <td>False</td>\n",
       "      <td>True</td>\n",
       "    </tr>\n",
       "    <tr>\n",
       "      <th>3</th>\n",
       "      <td>58</td>\n",
       "      <td>38</td>\n",
       "      <td>21</td>\n",
       "      <td>7</td>\n",
       "      <td>7</td>\n",
       "      <td>396</td>\n",
       "      <td>29</td>\n",
       "      <td>1</td>\n",
       "      <td>True</td>\n",
       "      <td>False</td>\n",
       "      <td>True</td>\n",
       "      <td>True</td>\n",
       "      <td>False</td>\n",
       "    </tr>\n",
       "    <tr>\n",
       "      <th>4</th>\n",
       "      <td>23</td>\n",
       "      <td>32</td>\n",
       "      <td>20</td>\n",
       "      <td>5</td>\n",
       "      <td>8</td>\n",
       "      <td>617</td>\n",
       "      <td>20</td>\n",
       "      <td>1</td>\n",
       "      <td>True</td>\n",
       "      <td>False</td>\n",
       "      <td>False</td>\n",
       "      <td>True</td>\n",
       "      <td>False</td>\n",
       "    </tr>\n",
       "  </tbody>\n",
       "</table>\n",
       "</div>"
      ],
      "text/plain": [
       "   Age  Tenure  Usage Frequency  Support Calls  Payment Delay  Total Spend  \\\n",
       "0   30      39               14              5             18          932   \n",
       "1   65      49                1             10              8          557   \n",
       "2   55      14                4              6             18          185   \n",
       "3   58      38               21              7              7          396   \n",
       "4   23      32               20              5              8          617   \n",
       "\n",
       "   Last Interaction  Churn  Gender_Male  Subscription Type_Premium  \\\n",
       "0                17      1        False                      False   \n",
       "1                 6      1        False                      False   \n",
       "2                 3      1        False                      False   \n",
       "3                29      1         True                      False   \n",
       "4                20      1         True                      False   \n",
       "\n",
       "   Subscription Type_Standard  Contract Length_Monthly  \\\n",
       "0                        True                    False   \n",
       "1                       False                     True   \n",
       "2                       False                    False   \n",
       "3                        True                     True   \n",
       "4                       False                     True   \n",
       "\n",
       "   Contract Length_Quarterly  \n",
       "0                      False  \n",
       "1                      False  \n",
       "2                       True  \n",
       "3                      False  \n",
       "4                      False  "
      ]
     },
     "execution_count": 21,
     "metadata": {},
     "output_type": "execute_result"
    }
   ],
   "source": [
    "df_churn = pd.get_dummies(df_churn, drop_first=True)\n",
    "df_churn.head()"
   ]
  },
  {
   "cell_type": "markdown",
   "id": "16d17faa",
   "metadata": {},
   "source": [
    "### Applying ML models for Classification"
   ]
  },
  {
   "cell_type": "code",
   "execution_count": 22,
   "id": "f0f6b00a",
   "metadata": {},
   "outputs": [],
   "source": [
    "# Now for machine learning, we will import the necessary libraries\n",
    "from sklearn.model_selection import train_test_split, GridSearchCV\n",
    "from sklearn.preprocessing import StandardScaler\n",
    "\n",
    "scaler = StandardScaler()"
   ]
  },
  {
   "cell_type": "code",
   "execution_count": 23,
   "id": "7a346e84",
   "metadata": {},
   "outputs": [],
   "source": [
    "x_churn = X = df_churn.drop(columns=['Churn'])\n",
    "y_churn = df_churn['Churn']\n",
    "\n",
    "# Split data\n",
    "x_churn_train, x_churn_test, y_churn_train, y_churn_test = train_test_split(x_churn, y_churn, test_size=0.2, random_state=42)\n",
    "\n",
    "# Scale data\n",
    "x_churn_train = scaler.fit_transform(x_churn_train)\n",
    "x_churn_test = scaler.transform(x_churn_test)"
   ]
  },
  {
   "cell_type": "code",
   "execution_count": 87,
   "id": "c3dc30e5",
   "metadata": {},
   "outputs": [],
   "source": [
    "# Importing all needed lib\n",
    "from sklearn.neighbors import KNeighborsClassifier\n",
    "from sklearn.linear_model import LogisticRegression\n",
    "from sklearn.tree import DecisionTreeClassifier\n",
    "from sklearn.ensemble import RandomForestClassifier, GradientBoostingClassifier\n",
    "from sklearn.naive_bayes import GaussianNB\n",
    "\n",
    "# Import used metrics\n",
    "from sklearn.metrics import accuracy_score, confusion_matrix, classification_report"
   ]
  },
  {
   "cell_type": "code",
   "execution_count": 91,
   "id": "30853277",
   "metadata": {},
   "outputs": [
    {
     "name": "stdout",
     "output_type": "stream",
     "text": [
      "fitting knn model...\n",
      "\n",
      "KNN best Paramaters: {'n_neighbors': 3, 'weights': 'distance'}\n",
      "KNN Accuracy: 0.9607903183730875\n",
      "confusion matrix: [[37860   203]\n",
      " [ 3254 46850]]\n",
      "classification_report:               precision    recall  f1-score   support\n",
      "\n",
      "           0       0.92      0.99      0.96     38063\n",
      "           1       1.00      0.94      0.96     50104\n",
      "\n",
      "    accuracy                           0.96     88167\n",
      "   macro avg       0.96      0.96      0.96     88167\n",
      "weighted avg       0.96      0.96      0.96     88167\n",
      "\n",
      "\n",
      "Fitting Linear Regression Classifier...\n",
      "\n",
      "logestic regression best paramaters: {'C': 10, 'penalty': 'l2', 'solver': 'lbfgs'}\n",
      "logestic regression Accuracy: 0.8964351741581317\n",
      "confusion matrix: [[34561  3502]\n",
      " [ 5629 44475]]\n",
      "classification_report:               precision    recall  f1-score   support\n",
      "\n",
      "           0       0.86      0.91      0.88     38063\n",
      "           1       0.93      0.89      0.91     50104\n",
      "\n",
      "    accuracy                           0.90     88167\n",
      "   macro avg       0.89      0.90      0.90     88167\n",
      "weighted avg       0.90      0.90      0.90     88167\n",
      "\n",
      "\n",
      "Fitting Decision Tree Classifier...\n",
      "\n",
      "Decision Tree best parameters: {'criterion': 'entropy', 'max_depth': 10}\n",
      "Decision Tree Accuracy: 0.9971644719679699\n",
      "confusion matrix: [[38063     0]\n",
      " [  250 49854]]\n",
      "classification_report:               precision    recall  f1-score   support\n",
      "\n",
      "           0       0.99      1.00      1.00     38063\n",
      "           1       1.00      1.00      1.00     50104\n",
      "\n",
      "    accuracy                           1.00     88167\n",
      "   macro avg       1.00      1.00      1.00     88167\n",
      "weighted avg       1.00      1.00      1.00     88167\n",
      "\n",
      "\n",
      "Fitting Random forest Classifier...\n",
      "\n",
      "Random Forest Best Paramaters: {'max_depth': None, 'n_estimators': 100}\n",
      "Random Forest Accuracy: 0.9995009470663627\n",
      "confusion matrix: [[38063     0]\n",
      " [   44 50060]]\n",
      "classification_report:               precision    recall  f1-score   support\n",
      "\n",
      "           0       1.00      1.00      1.00     38063\n",
      "           1       1.00      1.00      1.00     50104\n",
      "\n",
      "    accuracy                           1.00     88167\n",
      "   macro avg       1.00      1.00      1.00     88167\n",
      "weighted avg       1.00      1.00      1.00     88167\n",
      "\n",
      "\n",
      "Fitting Gradient Boosting Classifier Model...\n",
      "\n",
      "Gradient Boosting Classifier best paramaters: {'learning_rate': 0.1, 'max_depth': 5, 'n_estimators': 200}\n",
      "Gradient Boosting Classifier Accuracy: 0.9999319473272312\n",
      "confusion matrix: [[38062     1]\n",
      " [    5 50099]]\n",
      "classification_report:               precision    recall  f1-score   support\n",
      "\n",
      "           0       1.00      1.00      1.00     38063\n",
      "           1       1.00      1.00      1.00     50104\n",
      "\n",
      "    accuracy                           1.00     88167\n",
      "   macro avg       1.00      1.00      1.00     88167\n",
      "weighted avg       1.00      1.00      1.00     88167\n",
      "\n",
      "\n",
      "Fitting Naive Bayes Model...\n",
      "\n",
      "Naive Bayes Accuracy: 0.756870484421609\n",
      "confusion matrix: [[38063     0]\n",
      " [21436 28668]]\n",
      "classification_report:               precision    recall  f1-score   support\n",
      "\n",
      "           0       0.64      1.00      0.78     38063\n",
      "           1       1.00      0.57      0.73     50104\n",
      "\n",
      "    accuracy                           0.76     88167\n",
      "   macro avg       0.82      0.79      0.75     88167\n",
      "weighted avg       0.84      0.76      0.75     88167\n",
      "\n",
      "\n"
     ]
    }
   ],
   "source": [
    "# 1.KNN Classifier\n",
    "knnc = KNeighborsClassifier()\n",
    "knnc_params = {\n",
    "    'n_neighbors': [3, 5, 7],\n",
    "    'weights': ['uniform', 'distance']\n",
    "}\n",
    "knnc_grid = GridSearchCV(knnc, knnc_params, cv=5, scoring='accuracy', n_jobs=-1)\n",
    "print('fitting knn model...\\n')\n",
    "knnc_grid.fit(x_churn_train, y_churn_train)\n",
    "print(\n",
    "    f'KNN best Paramaters: {knnc_grid.best_params_}'\n",
    ")\n",
    "y_pred_knnc = knnc_grid.predict(x_churn_test)\n",
    "print(\n",
    "f'''KNN Accuracy: {accuracy_score(y_churn_test, y_pred_knnc)}\n",
    "confusion matrix: {confusion_matrix(y_churn_test, y_pred_knnc)}\n",
    "classification_report: {classification_report(y_churn_test, y_pred_knnc)}\n",
    "'''\n",
    ")\n",
    "\n",
    "# 2. Logestic Regression\n",
    "lgr = LogisticRegression()\n",
    "lgr_params = {\n",
    "    'C': [0.1, 1.0, 10],\n",
    "    'penalty': ['l2'],\n",
    "    'solver': ['lbfgs']\n",
    "}\n",
    "lgr_grid = GridSearchCV(lgr, lgr_params, cv=5, scoring='accuracy', n_jobs=-1)\n",
    "print(\n",
    "    'Fitting Linear Regression Classifier...\\n'\n",
    ")\n",
    "lgr_grid.fit(x_churn_train, y_churn_train)\n",
    "print(f'logestic regression best paramaters: {lgr_grid.best_params_}')\n",
    "\n",
    "y_pred_lgr = lgr_grid.predict(x_churn_test)\n",
    "print(\n",
    "f'''logestic regression Accuracy: {accuracy_score(y_churn_test, y_pred_lgr)}\n",
    "confusion matrix: {confusion_matrix(y_churn_test, y_pred_lgr)}\n",
    "classification_report: {classification_report(y_churn_test, y_pred_lgr)}\n",
    "'''\n",
    ")\n",
    "\n",
    "# 3. Decision Tree\n",
    "dtc = DecisionTreeClassifier()\n",
    "dtc_params = {\n",
    "    'max_depth': [3, 5, 10],\n",
    "    'criterion': ['gini', 'entropy']\n",
    "}\n",
    "dtc_grid = GridSearchCV(dtc, dtc_params, cv=5, scoring='accuracy', n_jobs=-1)\n",
    "print('Fitting Decision Tree Classifier...\\n')\n",
    "dtc_grid.fit(x_churn_train, y_churn_train)\n",
    "print(f'Decision Tree best parameters: {dtc_grid.best_params_}')\n",
    "\n",
    "y_pred_dtc = dtc_grid.predict(x_churn_test)\n",
    "print(\n",
    "f'''Decision Tree Accuracy: {accuracy_score(y_churn_test, y_pred_dtc)}\n",
    "confusion matrix: {confusion_matrix(y_churn_test, y_pred_dtc)}\n",
    "classification_report: {classification_report(y_churn_test, y_pred_dtc)}\n",
    "'''\n",
    ")\n",
    "\n",
    "# 4. Random Forest Classifier\n",
    "rfc = RandomForestClassifier()\n",
    "rfc_params = {\n",
    "    'n_estimators': [50, 100, 200],\n",
    "    'max_depth': [None, 5, 10]\n",
    "}\n",
    "rfc_grid = GridSearchCV(rfc, rfc_params, cv=5, scoring='accuracy', n_jobs=-1)\n",
    "print('Fitting Random forest Classifier...\\n')\n",
    "\n",
    "rfc_grid.fit(x_churn_train, y_churn_train)\n",
    "print(f'Random Forest Best Paramaters: {rfc_grid.best_params_}')\n",
    "\n",
    "y_pred_rfc = rfc_grid.predict(x_churn_test)\n",
    "print(\n",
    "f'''Random Forest Accuracy: {accuracy_score(y_churn_test, y_pred_rfc)}\n",
    "confusion matrix: {confusion_matrix(y_churn_test, y_pred_rfc)}\n",
    "classification_report: {classification_report(y_churn_test, y_pred_rfc)}\n",
    "'''\n",
    ")\n",
    "\n",
    "# 5. Gradient Boosting Classifier\n",
    "gbc = GradientBoostingClassifier()\n",
    "gbc_params = {\n",
    "    'n_estimators': [100, 200],\n",
    "    'learning_rate': [0.01, 0.1],\n",
    "    'max_depth': [3, 5]\n",
    "}\n",
    "gbc_grid = GridSearchCV(gbc, gbc_params, cv=5, scoring='accuracy', n_jobs=-1)\n",
    "print('Fitting Gradient Boosting Classifier Model...\\n')\n",
    "\n",
    "gbc_grid.fit(x_churn_train, y_churn_train)\n",
    "print(f'Gradient Boosting Classifier best paramaters: {gbc_grid.best_params_}')\n",
    "\n",
    "y_pred_gbc = gbc_grid.predict(x_churn_test)\n",
    "\n",
    "print(\n",
    "f'''Gradient Boosting Classifier Accuracy: {accuracy_score(y_churn_test, y_pred_gbc)}\n",
    "confusion matrix: {confusion_matrix(y_churn_test, y_pred_gbc)}\n",
    "classification_report: {classification_report(y_churn_test, y_pred_gbc)}\n",
    "'''\n",
    ")\n",
    "\n",
    "# 6. Naive Bayes\n",
    "nb = GaussianNB()\n",
    "print('Fitting Naive Bayes Model...\\n')\n",
    "nb.fit(x_churn_train, y_churn_train)\n",
    "\n",
    "y_pred_nb = nb.predict(x_churn_test)\n",
    "print(\n",
    "f'''Naive Bayes Accuracy: {accuracy_score(y_churn_test, y_pred_nb)}\n",
    "confusion matrix: {confusion_matrix(y_churn_test, y_pred_nb)}\n",
    "classification_report: {classification_report(y_churn_test, y_pred_nb)}\n",
    "'''\n",
    ")"
   ]
  },
  {
   "cell_type": "markdown",
   "id": "6ed05061",
   "metadata": {},
   "source": [
    "## Applying DL"
   ]
  },
  {
   "cell_type": "code",
   "execution_count": 31,
   "id": "2a5fd970",
   "metadata": {},
   "outputs": [],
   "source": [
    "from tensorflow.keras.models import Sequential\n",
    "from tensorflow.keras.layers import Input, Dense, Dropout"
   ]
  },
  {
   "cell_type": "code",
   "execution_count": 34,
   "id": "3d77bdb1",
   "metadata": {},
   "outputs": [],
   "source": [
    "# Building the model\n",
    "ishape = x_churn_train.shape[1]\n",
    "\n",
    "model = Sequential([\n",
    "    Input(shape=(ishape,)),\n",
    "    Dense(16, activation='relu'),\n",
    "    # Dropout(0.3),\n",
    "    Dense(8, activation='relu'),\n",
    "    Dense(1, activation='sigmoid')  # Binary classification\n",
    "])"
   ]
  },
  {
   "cell_type": "code",
   "execution_count": 35,
   "id": "1cd6e2d2",
   "metadata": {},
   "outputs": [
    {
     "name": "stdout",
     "output_type": "stream",
     "text": [
      "Epoch 1/30\n",
      "\u001b[1m8817/8817\u001b[0m \u001b[32m━━━━━━━━━━━━━━━━━━━━\u001b[0m\u001b[37m\u001b[0m \u001b[1m57s\u001b[0m 6ms/step - accuracy: 0.9233 - loss: 0.1768 - val_accuracy: 0.9891 - val_loss: 0.0362\n",
      "Epoch 2/30\n",
      "\u001b[1m8817/8817\u001b[0m \u001b[32m━━━━━━━━━━━━━━━━━━━━\u001b[0m\u001b[37m\u001b[0m \u001b[1m76s\u001b[0m 5ms/step - accuracy: 0.9905 - loss: 0.0313 - val_accuracy: 0.9944 - val_loss: 0.0218\n",
      "Epoch 3/30\n",
      "\u001b[1m8817/8817\u001b[0m \u001b[32m━━━━━━━━━━━━━━━━━━━━\u001b[0m\u001b[37m\u001b[0m \u001b[1m75s\u001b[0m 5ms/step - accuracy: 0.9946 - loss: 0.0196 - val_accuracy: 0.9950 - val_loss: 0.0170\n",
      "Epoch 4/30\n",
      "\u001b[1m8817/8817\u001b[0m \u001b[32m━━━━━━━━━━━━━━━━━━━━\u001b[0m\u001b[37m\u001b[0m \u001b[1m42s\u001b[0m 5ms/step - accuracy: 0.9957 - loss: 0.0156 - val_accuracy: 0.9964 - val_loss: 0.0135\n",
      "Epoch 5/30\n",
      "\u001b[1m8817/8817\u001b[0m \u001b[32m━━━━━━━━━━━━━━━━━━━━\u001b[0m\u001b[37m\u001b[0m \u001b[1m42s\u001b[0m 5ms/step - accuracy: 0.9959 - loss: 0.0137 - val_accuracy: 0.9955 - val_loss: 0.0140\n",
      "Epoch 6/30\n",
      "\u001b[1m8817/8817\u001b[0m \u001b[32m━━━━━━━━━━━━━━━━━━━━\u001b[0m\u001b[37m\u001b[0m \u001b[1m43s\u001b[0m 5ms/step - accuracy: 0.9963 - loss: 0.0126 - val_accuracy: 0.9949 - val_loss: 0.0149\n",
      "Epoch 7/30\n",
      "\u001b[1m8817/8817\u001b[0m \u001b[32m━━━━━━━━━━━━━━━━━━━━\u001b[0m\u001b[37m\u001b[0m \u001b[1m81s\u001b[0m 5ms/step - accuracy: 0.9961 - loss: 0.0122 - val_accuracy: 0.9955 - val_loss: 0.0133\n",
      "Epoch 8/30\n",
      "\u001b[1m8817/8817\u001b[0m \u001b[32m━━━━━━━━━━━━━━━━━━━━\u001b[0m\u001b[37m\u001b[0m \u001b[1m45s\u001b[0m 5ms/step - accuracy: 0.9964 - loss: 0.0113 - val_accuracy: 0.9971 - val_loss: 0.0097\n",
      "Epoch 9/30\n",
      "\u001b[1m8817/8817\u001b[0m \u001b[32m━━━━━━━━━━━━━━━━━━━━\u001b[0m\u001b[37m\u001b[0m \u001b[1m44s\u001b[0m 5ms/step - accuracy: 0.9966 - loss: 0.0106 - val_accuracy: 0.9967 - val_loss: 0.0116\n",
      "Epoch 10/30\n",
      "\u001b[1m8817/8817\u001b[0m \u001b[32m━━━━━━━━━━━━━━━━━━━━\u001b[0m\u001b[37m\u001b[0m \u001b[1m82s\u001b[0m 5ms/step - accuracy: 0.9969 - loss: 0.0104 - val_accuracy: 0.9969 - val_loss: 0.0098\n",
      "Epoch 11/30\n",
      "\u001b[1m8817/8817\u001b[0m \u001b[32m━━━━━━━━━━━━━━━━━━━━\u001b[0m\u001b[37m\u001b[0m \u001b[1m47s\u001b[0m 5ms/step - accuracy: 0.9968 - loss: 0.0102 - val_accuracy: 0.9958 - val_loss: 0.0125\n",
      "Epoch 12/30\n",
      "\u001b[1m8817/8817\u001b[0m \u001b[32m━━━━━━━━━━━━━━━━━━━━\u001b[0m\u001b[37m\u001b[0m \u001b[1m79s\u001b[0m 5ms/step - accuracy: 0.9969 - loss: 0.0099 - val_accuracy: 0.9969 - val_loss: 0.0097\n",
      "Epoch 13/30\n",
      "\u001b[1m8817/8817\u001b[0m \u001b[32m━━━━━━━━━━━━━━━━━━━━\u001b[0m\u001b[37m\u001b[0m \u001b[1m46s\u001b[0m 5ms/step - accuracy: 0.9971 - loss: 0.0097 - val_accuracy: 0.9973 - val_loss: 0.0091\n",
      "Epoch 14/30\n",
      "\u001b[1m8817/8817\u001b[0m \u001b[32m━━━━━━━━━━━━━━━━━━━━\u001b[0m\u001b[37m\u001b[0m \u001b[1m82s\u001b[0m 5ms/step - accuracy: 0.9970 - loss: 0.0100 - val_accuracy: 0.9969 - val_loss: 0.0096\n",
      "Epoch 15/30\n",
      "\u001b[1m8817/8817\u001b[0m \u001b[32m━━━━━━━━━━━━━━━━━━━━\u001b[0m\u001b[37m\u001b[0m \u001b[1m47s\u001b[0m 5ms/step - accuracy: 0.9971 - loss: 0.0092 - val_accuracy: 0.9969 - val_loss: 0.0091\n",
      "Epoch 16/30\n",
      "\u001b[1m8817/8817\u001b[0m \u001b[32m━━━━━━━━━━━━━━━━━━━━\u001b[0m\u001b[37m\u001b[0m \u001b[1m47s\u001b[0m 5ms/step - accuracy: 0.9971 - loss: 0.0091 - val_accuracy: 0.9977 - val_loss: 0.0088\n",
      "Epoch 17/30\n",
      "\u001b[1m8817/8817\u001b[0m \u001b[32m━━━━━━━━━━━━━━━━━━━━\u001b[0m\u001b[37m\u001b[0m \u001b[1m46s\u001b[0m 5ms/step - accuracy: 0.9973 - loss: 0.0084 - val_accuracy: 0.9970 - val_loss: 0.0091\n",
      "Epoch 18/30\n",
      "\u001b[1m8817/8817\u001b[0m \u001b[32m━━━━━━━━━━━━━━━━━━━━\u001b[0m\u001b[37m\u001b[0m \u001b[1m87s\u001b[0m 6ms/step - accuracy: 0.9974 - loss: 0.0083 - val_accuracy: 0.9977 - val_loss: 0.0068\n",
      "Epoch 19/30\n",
      "\u001b[1m8817/8817\u001b[0m \u001b[32m━━━━━━━━━━━━━━━━━━━━\u001b[0m\u001b[37m\u001b[0m \u001b[1m46s\u001b[0m 5ms/step - accuracy: 0.9972 - loss: 0.0089 - val_accuracy: 0.9978 - val_loss: 0.0069\n",
      "Epoch 20/30\n",
      "\u001b[1m8817/8817\u001b[0m \u001b[32m━━━━━━━━━━━━━━━━━━━━\u001b[0m\u001b[37m\u001b[0m \u001b[1m84s\u001b[0m 5ms/step - accuracy: 0.9976 - loss: 0.0079 - val_accuracy: 0.9972 - val_loss: 0.0079\n",
      "Epoch 21/30\n",
      "\u001b[1m8817/8817\u001b[0m \u001b[32m━━━━━━━━━━━━━━━━━━━━\u001b[0m\u001b[37m\u001b[0m \u001b[1m81s\u001b[0m 5ms/step - accuracy: 0.9977 - loss: 0.0072 - val_accuracy: 0.9974 - val_loss: 0.0081\n",
      "Epoch 22/30\n",
      "\u001b[1m8817/8817\u001b[0m \u001b[32m━━━━━━━━━━━━━━━━━━━━\u001b[0m\u001b[37m\u001b[0m \u001b[1m82s\u001b[0m 5ms/step - accuracy: 0.9977 - loss: 0.0075 - val_accuracy: 0.9977 - val_loss: 0.0070\n",
      "Epoch 23/30\n",
      "\u001b[1m8817/8817\u001b[0m \u001b[32m━━━━━━━━━━━━━━━━━━━━\u001b[0m\u001b[37m\u001b[0m \u001b[1m90s\u001b[0m 6ms/step - accuracy: 0.9976 - loss: 0.0075 - val_accuracy: 0.9979 - val_loss: 0.0068\n",
      "Epoch 24/30\n",
      "\u001b[1m8817/8817\u001b[0m \u001b[32m━━━━━━━━━━━━━━━━━━━━\u001b[0m\u001b[37m\u001b[0m \u001b[1m49s\u001b[0m 6ms/step - accuracy: 0.9979 - loss: 0.0069 - val_accuracy: 0.9980 - val_loss: 0.0064\n",
      "Epoch 25/30\n",
      "\u001b[1m8817/8817\u001b[0m \u001b[32m━━━━━━━━━━━━━━━━━━━━\u001b[0m\u001b[37m\u001b[0m \u001b[1m49s\u001b[0m 6ms/step - accuracy: 0.9978 - loss: 0.0068 - val_accuracy: 0.9977 - val_loss: 0.0073\n",
      "Epoch 26/30\n",
      "\u001b[1m8817/8817\u001b[0m \u001b[32m━━━━━━━━━━━━━━━━━━━━\u001b[0m\u001b[37m\u001b[0m \u001b[1m47s\u001b[0m 5ms/step - accuracy: 0.9980 - loss: 0.0064 - val_accuracy: 0.9981 - val_loss: 0.0056\n",
      "Epoch 27/30\n",
      "\u001b[1m8817/8817\u001b[0m \u001b[32m━━━━━━━━━━━━━━━━━━━━\u001b[0m\u001b[37m\u001b[0m \u001b[1m48s\u001b[0m 5ms/step - accuracy: 0.9981 - loss: 0.0060 - val_accuracy: 0.9978 - val_loss: 0.0057\n",
      "Epoch 28/30\n",
      "\u001b[1m8817/8817\u001b[0m \u001b[32m━━━━━━━━━━━━━━━━━━━━\u001b[0m\u001b[37m\u001b[0m \u001b[1m50s\u001b[0m 6ms/step - accuracy: 0.9981 - loss: 0.0063 - val_accuracy: 0.9983 - val_loss: 0.0054\n",
      "Epoch 29/30\n",
      "\u001b[1m8817/8817\u001b[0m \u001b[32m━━━━━━━━━━━━━━━━━━━━\u001b[0m\u001b[37m\u001b[0m \u001b[1m82s\u001b[0m 6ms/step - accuracy: 0.9982 - loss: 0.0061 - val_accuracy: 0.9984 - val_loss: 0.0059\n",
      "Epoch 30/30\n",
      "\u001b[1m8817/8817\u001b[0m \u001b[32m━━━━━━━━━━━━━━━━━━━━\u001b[0m\u001b[37m\u001b[0m \u001b[1m53s\u001b[0m 6ms/step - accuracy: 0.9979 - loss: 0.0068 - val_accuracy: 0.9982 - val_loss: 0.0051\n"
     ]
    }
   ],
   "source": [
    "# Training and using binary_crossentropy as advised for binary cllassification\n",
    "model.compile(\n",
    "    optimizer='adam',\n",
    "    loss='binary_crossentropy',\n",
    "    metrics=['accuracy']\n",
    ")\n",
    "\n",
    "# we added history for plotting the training curve\n",
    "history = model.fit(x_churn_train, y_churn_train, epochs=30, batch_size=32, validation_split=0.2)"
   ]
  },
  {
   "cell_type": "code",
   "execution_count": 36,
   "id": "ba550a3b",
   "metadata": {},
   "outputs": [
    {
     "name": "stdout",
     "output_type": "stream",
     "text": [
      "\u001b[1m2756/2756\u001b[0m \u001b[32m━━━━━━━━━━━━━━━━━━━━\u001b[0m\u001b[37m\u001b[0m \u001b[1m11s\u001b[0m 4ms/step - accuracy: 0.9981 - loss: 0.0054\n",
      "\n",
      "    Test Accuracy: 0.9983\n",
      "    Test Loss: 0.0050\n",
      "    \n"
     ]
    }
   ],
   "source": [
    "loss, accuracy = model.evaluate(x_churn_test, y_churn_test)\n",
    "print(\n",
    "    f'''\n",
    "    Test Accuracy: {accuracy:.4f}\n",
    "    Test Loss: {loss:.4f}\n",
    "    '''\n",
    "    )"
   ]
  },
  {
   "cell_type": "code",
   "execution_count": null,
   "id": "9dfdcd46",
   "metadata": {},
   "outputs": [
    {
     "data": {
      "image/png": "[encoded data removed]",
      "text/plain": [
       "<Figure size 640x480 with 1 Axes>"
      ]
     },
     "metadata": {},
     "output_type": "display_data"
    }
   ],
   "source": [
    "# Plotting training and validation acc\n",
    "\n",
    "plt.plot(history.history['accuracy'], label='Train Acc')\n",
    "plt.plot(history.history['val_accuracy'], label='Val Acc')\n",
    "plt.xlabel('Epoch')\n",
    "plt.ylabel('Accuracy')\n",
    "plt.legend()\n",
    "plt.title('Training vs Validation Accuracy')\n",
    "plt.show()"
   ]
  }
 ],
 "metadata": {
  "kernelspec": {
   "display_name": "base",
   "language": "python",
   "name": "python3"
  },
  "language_info": {
   "codemirror_mode": {
    "name": "ipython",
    "version": 3
   },
   "file_extension": ".py",
   "mimetype": "text/x-python",
   "name": "python",
   "nbconvert_exporter": "python",
   "pygments_lexer": "ipython3",
   "version": "3.12.7"
  }
 },
 "nbformat": 4,
 "nbformat_minor": 5
}
