{
 "cells": [
  {
   "cell_type": "markdown",
   "id": "cf65e1e8",
   "metadata": {},
   "source": [
    "## Database Interaction"
   ]
  },
  {
   "cell_type": "code",
   "execution_count": 1,
   "id": "15f8821b",
   "metadata": {},
   "outputs": [],
   "source": [
    "# Creating and connecting to a SQLite database\n",
    "import sqlite3\n",
    "\n",
    "# Create a connection to the SQLite database (it will create the file if it doesn't exist)\n",
    "conn = sqlite3.connect('employees.db')\n",
    "\n",
    "# Create a cursor object to execute SQL commands\n",
    "cursor = conn.cursor()\n",
    "\n",
    "# Create a table for employees\n",
    "cursor.execute('''CREATE TABLE IF NOT EXISTS employees (\n",
    "    id INTEGER PRIMARY KEY AUTOINCREMENT,\n",
    "    first_name TEXT NOT NULL,\n",
    "    last_name TEXT NOT NULL,\n",
    "    department TEXT NOT NULL,\n",
    "    monthly_salary REAL NOT NULL,\n",
    "    start_date TEXT NOT NULL,\n",
    "    tax REAL\n",
    ")''')\n",
    "\n",
    "# Commit the changes and close the connection\n",
    "conn.commit()\n",
    "conn.close()\n",
    "\n",
    "# Inserting data into the employees table\n",
    "def insert_employee(first_name, last_name, department, monthly_salary, start_date, tax):\n",
    "    conn = sqlite3.connect('employees.db')\n",
    "    cursor = conn.cursor()\n",
    "    cursor.execute('''INSERT INTO employees (first_name, last_name, department, monthly_salary, start_date, tax)\n",
    "                      VALUES (?, ?, ?, ?, ?, ?)''', (first_name, last_name, department, monthly_salary, start_date, tax))\n",
    "    conn.commit()\n",
    "    conn.close()"
   ]
  },
  {
   "cell_type": "code",
   "execution_count": 3,
   "id": "beed9ecf",
   "metadata": {},
   "outputs": [],
   "source": [
    "# insert a single record\n",
    "insert_employee('John', 'Doe', 'IT', 5000, '2023-01-01', 700)\n",
    "# insert multiple records\n",
    "employees = [ ('Jane', 'Smith', 'HR', 6000, '2023-02-01', 840),\n",
    "                ('Alice', 'Johnson', 'Finance', 7000, '2023-03-01', 980),\n",
    "                ('Bob', 'Brown', 'Marketing', 5500, '2023-04-01', 770) ]\n",
    "for emp in employees:\n",
    "    insert_employee(*emp)"
   ]
  },
  {
   "cell_type": "code",
   "execution_count": 4,
   "id": "786d85fa",
   "metadata": {},
   "outputs": [],
   "source": [
    "# Select column with specific conditions\n",
    "def select_employees_by_department(department):\n",
    "    conn = sqlite3.connect('employees.db')\n",
    "    cursor = conn.cursor()\n",
    "    cursor.execute('''SELECT * FROM employees WHERE department = ?''', (department,))\n",
    "    results = cursor.fetchall()\n",
    "    conn.close()\n",
    "    return results"
   ]
  },
  {
   "cell_type": "code",
   "execution_count": 5,
   "id": "56100d95",
   "metadata": {},
   "outputs": [],
   "source": [
    "# Join two tables (if needed)\n",
    "# creating another table to join with, you can use a JOIN statement.\n",
    "def create_departments_table():\n",
    "    conn = sqlite3.connect('employees.db')\n",
    "    cursor = conn.cursor()\n",
    "    cursor.execute('''CREATE TABLE IF NOT EXISTS departments (\n",
    "        department_name TEXT PRIMARY KEY\n",
    "    )''')\n",
    "    cursor.execute('''INSERT OR IGNORE INTO departments (department_name) VALUES\n",
    "                      ('IT'), ('HR'), ('Finance'), ('Marketing')''')\n",
    "    conn.commit()\n",
    "    conn.close()\n",
    "create_departments_table()\n",
    "\n",
    "# Joining employees with departments\n",
    "def join_employees_departments():\n",
    "    conn = sqlite3.connect('employees.db')\n",
    "    cursor = conn.cursor()\n",
    "    cursor.execute('''SELECT e.first_name, e.last_name, e.department, d.department_name\n",
    "                      FROM employees e\n",
    "                      JOIN departments d ON e.department = d.department_name''')\n",
    "    results = cursor.fetchall()\n",
    "    conn.close()\n",
    "    return results"
   ]
  },
  {
   "cell_type": "code",
   "execution_count": null,
   "id": "7efa08f5",
   "metadata": {},
   "outputs": [],
   "source": [
    "# Update rows\n",
    "def update_employee_salary(employee_id, new_salary):\n",
    "    conn = sqlite3.connect('employees.db')\n",
    "    cursor = conn.cursor()\n",
    "    cursor.execute('''UPDATE employees SET monthly_salary = ? WHERE id = ?''', (new_salary, employee_id))\n",
    "    conn.commit()\n",
    "    conn.close()\n",
    "    \n",
    "# delete rows\n",
    "def delete_employee(employee_id):\n",
    "    conn = sqlite3.connect('employees.db')\n",
    "    cursor = conn.cursor()\n",
    "    cursor.execute('''DELETE FROM employees WHERE id = ?''', (employee_id,))\n",
    "    conn.commit()\n",
    "    conn.close()\n",
    "    \n",
    "# Multi operations at once (Does not support multi threading)\n",
    "def perform_multi_operations():\n",
    "    conn = sqlite3.connect('employees.db')\n",
    "    cursor = conn.cursor()\n",
    "    \n",
    "    # Update salary for employee with id 1\n",
    "    cursor.execute('''UPDATE employees SET monthly_salary = ? WHERE id = ?''', (6000, 1))\n",
    "    \n",
    "    # Delete employee with id 2\n",
    "    cursor.execute('''DELETE FROM employees WHERE id = ?''', (2,))\n",
    "    \n",
    "    conn.commit()\n",
    "    conn.close()"
   ]
  }
 ],
 "metadata": {
  "kernelspec": {
   "display_name": "base",
   "language": "python",
   "name": "python3"
  },
  "language_info": {
   "codemirror_mode": {
    "name": "ipython",
    "version": 3
   },
   "file_extension": ".py",
   "mimetype": "text/x-python",
   "name": "python",
   "nbconvert_exporter": "python",
   "pygments_lexer": "ipython3",
   "version": "3.12.7"
  }
 },
 "nbformat": 4,
 "nbformat_minor": 5
}
