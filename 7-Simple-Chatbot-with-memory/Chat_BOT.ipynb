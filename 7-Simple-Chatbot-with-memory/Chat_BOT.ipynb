{
  "cells": [
    {
      "cell_type": "code",
      "execution_count": 1,
      "metadata": {
        "id": "VNcOxCxrmmlZ"
      },
      "outputs": [],
      "source": [
        "import torch\n",
        "from transformers import AutoTokenizer, AutoModelForCausalLM, pipeline\n",
        "import huggingface_hub\n",
        "import os\n",
        "from dotenv import find_dotenv , load_dotenv"
      ]
    },
    {
      "cell_type": "code",
      "execution_count": 3,
      "metadata": {},
      "outputs": [],
      "source": [
        "load_dotenv(find_dotenv())\n",
        "hf_token = os.getenv(\"hf_token\")"
      ]
    },
    {
      "cell_type": "code",
      "execution_count": null,
      "metadata": {
        "id": "lyw-_jihpxxW"
      },
      "outputs": [],
      "source": [
        "model_name = \"meta-llama/Llama-3.2-3B-Instruct\""
      ]
    },
    {
      "cell_type": "code",
      "execution_count": 3,
      "metadata": {
        "id": "i7l68ydFp28X"
      },
      "outputs": [],
      "source": [
        "huggingface_hub.login(token=hf_token)"
      ]
    },
    {
      "cell_type": "code",
      "execution_count": 4,
      "metadata": {
        "colab": {
          "base_uri": "https://localhost:8080/"
        },
        "id": "mRYDiWlep6tx",
        "outputId": "1b19731c-d24b-40b5-b363-dada700b1de8"
      },
      "outputs": [
        {
          "data": {
            "text/plain": [
              "<torch._C.Generator at 0x7879c0c694d0>"
            ]
          },
          "execution_count": 4,
          "metadata": {},
          "output_type": "execute_result"
        }
      ],
      "source": [
        "torch.random.manual_seed(42)"
      ]
    },
    {
      "cell_type": "code",
      "execution_count": 5,
      "metadata": {
        "colab": {
          "base_uri": "https://localhost:8080/",
          "height": 461,
          "referenced_widgets": [
            "588536fc2bd14c40952f74ade5c92ec3",
            "e524a7439fc7447183aee091f298fd20",
            "cc159901fcbf40128dbea7af570f51e0",
            "38f4c199130a486882a89a65087e7755",
            "801b886dc0784ba8a1b7d07b3959481e",
            "4bac229c6b3f481c9cfa511dfe3891ac",
            "d787a8695d054cbe857a28687a059169",
            "9ce21946712449be9a4f81060f6cc610",
            "3c55dc3fc13f4f0ea029ad9cc1be735e",
            "0f83e5f8d6424d4697ef4a4631a8b6c3",
            "49bd3cdc1d9743f8822f26b4bd37492e",
            "c0a2c8089e2d4e2c9a0c6f3bfcccf285",
            "8272c45f01ed43b588cbe161cf248feb",
            "b8384f9923454ba4914ef820b875586c",
            "2597f1d47cbb46f7b8ea7fb59bfbde02",
            "c5f6ebbbed1c4b39b868863186fa4f21",
            "836830ff44c149f68248400dadfa235b",
            "50829edb98994053bff9c4de832ff75e",
            "0b27da7f941d4c03962ccf22d45bf1ee",
            "591ee531b5914150bf3789da21d27bef",
            "bf0cbfa3a390436281c6d1748d9d052c",
            "dd9834aeefb945cb8b276e376a70db2f",
            "e6dcfacd2aeb4238b67b107693821b30",
            "51fddabe461949efae2651304769688b",
            "99b8e09ef4d0424aa84db20e334235e5",
            "c6b3d9a782e04417a03d1299c5abd9a7",
            "4c33959f08bc44c9a18bc6a0fc108137",
            "20e305786c8740e6be063339feaecaa3",
            "d3f772cbfe4e4c888da3248c6f076c50",
            "672899e9e3354dbe8d17afb7937a033e",
            "76f601174389444f94540168c07345d4",
            "3fcbbf04f14a45d5b2e5b0c98705b631",
            "a7eefcf1e85e4179a58e99902ec34121",
            "ccca48595f7248cfb29f1792533b7ac7",
            "304753d8b13247af90a0114bdaeeac60",
            "eb2d563642db4af1aaeccef798c9c81b",
            "a5a2b6138f0b4508aeec6b128b72b49f",
            "1dd63b2a78db42bd82c40abe9d9ab75a",
            "b4d7e761efea4b2d81168f3fa269d9a6",
            "c7c1dbb0424b4523a0c755ddd0d73c3c",
            "1c78df1f1a1442768efb28870daff30d",
            "21de5998074e42bebf80da5b44ed696f",
            "72c4a769ca244227a40e076c536deb06",
            "d1cc80eb2219464782d62ae881b1be14",
            "6e21b9522002445b887b5162893f643d",
            "d0e2a93501104dc2afc0fc3a728ff9f4",
            "a1e816b5c4374812b33b6af57a6beb52",
            "4a0dfae9a63e47dda5f3871216ec0fed",
            "269730fe14ee432192944ed7be065267",
            "86cf5c3c153a4c6d847eaec418248105",
            "1d70a3b5af8c4d5d972fca306732d3b8",
            "0f3f25a8562d409091c38d634b335cd0",
            "ec2cd4ad7a894460884dcee4ee21b6de",
            "3a05c3572b854e528a0e5c7d98a9066f",
            "14081b19ab294751926453cefc0183b8",
            "35d891a9e4464f8eae5cef12973bf2fc",
            "a843faa99ca34e5a834a6cce2a086bc8",
            "5200b69e40b246a3a38b6d5cf8fdd059",
            "fb4c30fbf72548248be2e11cc9ff95ac",
            "8f40484fb3ba4a2e81f7e8cebbd3d57e",
            "ba5c4f663483488b8525395b5554c380",
            "f7d31a87e301481990a7a0e24651e65c",
            "27a5142bf30542e8866bfb9767cce810",
            "f2fcaccdc8a74dd6a84743841349827e",
            "eaf83782cd98442b954788788cf4b15d",
            "5144f6060e9f45a6b7d5799a0200a66c",
            "4570a9ffcf4d4bf3b2fd4d00beaa27a2",
            "56b184f8fec540b5a0377f6af84fc969",
            "bbdb283114634dcfa15b243f7071ec15",
            "8c0804846d76402b97fcb6374556a347",
            "4ef1640243964c50bf3a0ad85d44d38a",
            "fb22b47510064976a2614ee1f5d96798",
            "94deeafa91ff40f293bc0f3a1161809f",
            "a95da23acfc94de7941eeaa246dc2732",
            "1f24c23545fa4df3b6669bc57fa8f01f",
            "cc740342926c4d8f87cff120d977cd7a",
            "d38d83986b164f95b68760c3325acbb6",
            "6499775969934094813eb89e76bc388c",
            "b169406530f144ebb643cb2b456352fe",
            "5f8e94e4783249ef99af948d81737e27",
            "5b0c7143109245599dc844d5e8f31814",
            "d887708b694e4799bd0aba3c130723a0",
            "d0263479c9814b0ab18d541bdc335ce1",
            "d045e5732623471d8fecbc8f5b33f204",
            "857ff48503db42eebefe467d5a99974b",
            "f8bc1876bb61421abc960ef1284034aa",
            "e398041653c44d76b3f77b1d747dc9b7",
            "d6fe172f14654f51b100bde09a8c01fb",
            "080778560d6149dda35a01322de901a2",
            "28874dd9177c407f9e74116d5ebfe643",
            "bafcb373ee90412c954d3b7f84d8477c",
            "abb362e50ba64aa5a011e820fde6819f",
            "c086f4622d6c4ed0b9c3bad32e40605d",
            "6cad591d2187439eac101e6b1ae7506a",
            "9ea3d918484e416bbb7b9bc80ab5a472",
            "85cdaa358c39465397c654aa6ebe630e",
            "2ba6bd8825004c9c910677d792516eb0",
            "bd41893d376b4c46a472b5f872d4ffdb",
            "9b3883a766294abdbcbeecc804a029df",
            "e4f0a50e27ec4936b41eb801a91ce28e",
            "8417c3c9b0194e248ac3ef80212f0964",
            "a8f3b3a48b634ffe9a46fe4e7223704b",
            "0bec2399673a4885859cf253cd20a9e2",
            "1cb8f5ad54ae4b2b9eb24f3dea0bf0cc",
            "7f4744700eb24ebab5353f3233bfb741",
            "f9a4444a48fc4cb8b1fb3291d5868c72",
            "a7a99fd0c32346389252ebe0c60800ef",
            "de7effb4e0124e11af762ab29792e3b4",
            "e9c1e0a4232c429aba7b79fb41f21622",
            "0e548f5b6f434190931cbb402b11795c"
          ]
        },
        "id": "brx5vogaqA7y",
        "outputId": "1a92fa4d-470f-476c-a051-999b987d33ec"
      },
      "outputs": [
        {
          "name": "stderr",
          "output_type": "stream",
          "text": [
            "/usr/local/lib/python3.11/dist-packages/huggingface_hub/utils/_auth.py:94: UserWarning: \n",
            "The secret `HF_TOKEN` does not exist in your Colab secrets.\n",
            "To authenticate with the Hugging Face Hub, create a token in your settings tab (https://huggingface.co/settings/tokens), set it as secret in your Google Colab and restart your session.\n",
            "You will be able to reuse this secret in all of your notebooks.\n",
            "Please note that authentication is recommended but still optional to access public models or datasets.\n",
            "  warnings.warn(\n"
          ]
        },
        {
          "data": {
            "application/vnd.jupyter.widget-view+json": {
              "model_id": "588536fc2bd14c40952f74ade5c92ec3",
              "version_major": 2,
              "version_minor": 0
            },
            "text/plain": [
              "config.json:   0%|          | 0.00/878 [00:00<?, ?B/s]"
            ]
          },
          "metadata": {},
          "output_type": "display_data"
        },
        {
          "data": {
            "application/vnd.jupyter.widget-view+json": {
              "model_id": "c0a2c8089e2d4e2c9a0c6f3bfcccf285",
              "version_major": 2,
              "version_minor": 0
            },
            "text/plain": [
              "model.safetensors.index.json:   0%|          | 0.00/20.9k [00:00<?, ?B/s]"
            ]
          },
          "metadata": {},
          "output_type": "display_data"
        },
        {
          "data": {
            "application/vnd.jupyter.widget-view+json": {
              "model_id": "e6dcfacd2aeb4238b67b107693821b30",
              "version_major": 2,
              "version_minor": 0
            },
            "text/plain": [
              "Fetching 2 files:   0%|          | 0/2 [00:00<?, ?it/s]"
            ]
          },
          "metadata": {},
          "output_type": "display_data"
        },
        {
          "data": {
            "application/vnd.jupyter.widget-view+json": {
              "model_id": "ccca48595f7248cfb29f1792533b7ac7",
              "version_major": 2,
              "version_minor": 0
            },
            "text/plain": [
              "model-00001-of-00002.safetensors:   0%|          | 0.00/4.97G [00:00<?, ?B/s]"
            ]
          },
          "metadata": {},
          "output_type": "display_data"
        },
        {
          "data": {
            "application/vnd.jupyter.widget-view+json": {
              "model_id": "6e21b9522002445b887b5162893f643d",
              "version_major": 2,
              "version_minor": 0
            },
            "text/plain": [
              "model-00002-of-00002.safetensors:   0%|          | 0.00/1.46G [00:00<?, ?B/s]"
            ]
          },
          "metadata": {},
          "output_type": "display_data"
        },
        {
          "data": {
            "application/vnd.jupyter.widget-view+json": {
              "model_id": "35d891a9e4464f8eae5cef12973bf2fc",
              "version_major": 2,
              "version_minor": 0
            },
            "text/plain": [
              "Loading checkpoint shards:   0%|          | 0/2 [00:00<?, ?it/s]"
            ]
          },
          "metadata": {},
          "output_type": "display_data"
        },
        {
          "data": {
            "application/vnd.jupyter.widget-view+json": {
              "model_id": "4570a9ffcf4d4bf3b2fd4d00beaa27a2",
              "version_major": 2,
              "version_minor": 0
            },
            "text/plain": [
              "generation_config.json:   0%|          | 0.00/189 [00:00<?, ?B/s]"
            ]
          },
          "metadata": {},
          "output_type": "display_data"
        },
        {
          "data": {
            "application/vnd.jupyter.widget-view+json": {
              "model_id": "6499775969934094813eb89e76bc388c",
              "version_major": 2,
              "version_minor": 0
            },
            "text/plain": [
              "tokenizer_config.json:   0%|          | 0.00/54.5k [00:00<?, ?B/s]"
            ]
          },
          "metadata": {},
          "output_type": "display_data"
        },
        {
          "data": {
            "application/vnd.jupyter.widget-view+json": {
              "model_id": "080778560d6149dda35a01322de901a2",
              "version_major": 2,
              "version_minor": 0
            },
            "text/plain": [
              "tokenizer.json:   0%|          | 0.00/9.09M [00:00<?, ?B/s]"
            ]
          },
          "metadata": {},
          "output_type": "display_data"
        },
        {
          "data": {
            "application/vnd.jupyter.widget-view+json": {
              "model_id": "e4f0a50e27ec4936b41eb801a91ce28e",
              "version_major": 2,
              "version_minor": 0
            },
            "text/plain": [
              "special_tokens_map.json:   0%|          | 0.00/296 [00:00<?, ?B/s]"
            ]
          },
          "metadata": {},
          "output_type": "display_data"
        }
      ],
      "source": [
        "torch.random.manual_seed(0)\n",
        "model = AutoModelForCausalLM.from_pretrained(\n",
        "    model_name,\n",
        "    device_map=\"cuda\",\n",
        "    torch_dtype=\"auto\",\n",
        "    trust_remote_code=True,\n",
        ")\n",
        "tokenizer = AutoTokenizer.from_pretrained(model_name)\n",
        "tokenizer.pad_token_id = tokenizer.eos_token_id"
      ]
    },
    {
      "cell_type": "code",
      "execution_count": 6,
      "metadata": {
        "colab": {
          "base_uri": "https://localhost:8080/"
        },
        "id": "c2TWqxdjqEw4",
        "outputId": "dbfc9f61-b699-4bcf-d019-1d5af8de18ad"
      },
      "outputs": [
        {
          "name": "stderr",
          "output_type": "stream",
          "text": [
            "Device set to use cuda\n"
          ]
        }
      ],
      "source": [
        "pipe = pipeline(\"text-generation\",\n",
        "                model=model,\n",
        "                tokenizer=tokenizer)"
      ]
    },
    {
      "cell_type": "code",
      "execution_count": 7,
      "metadata": {
        "id": "d71VnuSQqjsn"
      },
      "outputs": [],
      "source": [
        "def get_response_hf(pipe, prompt, temperature = 0):\n",
        "  messages = [\n",
        "      {\"role\": \"user\", \"content\": prompt},\n",
        "  ]\n",
        "  sampling = False if temperature == 0 else True\n",
        "\n",
        "  generation_args = {\n",
        "    \"max_new_tokens\": 2000,\n",
        "    \"return_full_text\": False,\n",
        "    \"temperature\": temperature,\n",
        "    \"do_sample\": sampling,\n",
        "  }\n",
        "\n",
        "  output = pipe(messages,**generation_args )\n",
        "  return output[0]['generated_text']"
      ]
    },
    {
      "cell_type": "code",
      "execution_count": 8,
      "metadata": {
        "id": "p5hu4EHiqkhp"
      },
      "outputs": [],
      "source": [
        "system_prompt = \"\"\"\n",
        "You are MedBot, a friendly hospital assistant.\n",
        "\n",
        "Start by greeting the patient and asking them to briefly describe their issue.\n",
        "\n",
        "Based on their complaint, suggest the best doctor. Mention:\n",
        "- Doctor's name\n",
        "- Specialty\n",
        "- Working hours\n",
        "- Consultation cost in EGP\n",
        "\n",
        "Only recommend doctors during their working hours.\n",
        "\n",
        "Doctors available:\n",
        "\n",
        "Dr. Sarah Johnson  General Practitioner | Mon-Fri, 9am-1pm | 400 EGP\n",
        "Dr. Ahmed El-Masry - Pediatrician | Sun-Wed, 10am-4pm | 450 EGP\n",
        "Dr. Lisa Chen - Dermatologist | Tue & Thu, 2pm-6pm | 500 EGP\n",
        "Dr. James Carter - Cardiologist | Mon, Wed, Fri, 3pm-7pm | 600 EGP\n",
        "Dr. Amina Nabil - Psychologist | Sat-Tue, 12pm-5pm | 550 EGP\n",
        "Dr. Omar Khaled - Orthopedic | Sun & Wed, 9am-12pm | 500 EGP\n",
        "\n",
        "Be clear, warm, and helpful. Confirm all appointment details before ending.\n",
        "\n",
        "Always respond with a valid JSON. DO NOT include any extra characters, symbols, or text outside the JSON itself\n",
        "\"\"\""
      ]
    },
    {
      "cell_type": "code",
      "execution_count": 9,
      "metadata": {
        "colab": {
          "base_uri": "https://localhost:8080/"
        },
        "id": "Wgj7jpekqnG8",
        "outputId": "bcc1c3e7-a95d-48d8-8a69-56c8c8134b9c"
      },
      "outputs": [
        {
          "name": "stderr",
          "output_type": "stream",
          "text": [
            "The following generation flags are not valid and may be ignored: ['temperature', 'top_p']. Set `TRANSFORMERS_VERBOSITY=info` for more details.\n"
          ]
        },
        {
          "name": "stdout",
          "output_type": "stream",
          "text": [
            "{\n",
            "  \"role\": \"system\",\n",
            "  \"content\": \"Hello, welcome to the hospital. I'm MedBot, your friendly assistant today. Can you please tell me a little bit about your issue?\"\n",
            "}\n"
          ]
        }
      ],
      "source": [
        "context = [{\"role\":\"system\",\"content\":system_prompt}]\n",
        "output = get_response_hf(pipe,context)\n",
        "print(output)"
      ]
    },
    {
      "cell_type": "code",
      "execution_count": 10,
      "metadata": {
        "colab": {
          "base_uri": "https://localhost:8080/"
        },
        "id": "xCK8y1mFqo6k",
        "outputId": "14e9065d-d1e8-4142-e9ab-48c2f9c40759"
      },
      "outputs": [
        {
          "name": "stderr",
          "output_type": "stream",
          "text": [
            "The following generation flags are not valid and may be ignored: ['temperature', 'top_p']. Set `TRANSFORMERS_VERBOSITY=info` for more details.\n"
          ]
        },
        {
          "name": "stdout",
          "output_type": "stream",
          "text": [
            "{'role':'system', 'content': 'Hello, welcome to the hospital. I\\'m MedBot, your friendly assistant today. Can you please tell me a little bit about your issue?'}\n",
            "\n",
            "{'role': 'assistant', 'content': 'You have a rash on your skin. I recommend Dr. Lisa Chen, Dermatologist. Dr. Lisa Chen is available on Tuesdays and Thursdays from 2pm to 6pm. The consultation cost is 500 EGP. Would you like to schedule an appointment with Dr. Lisa Chen?'}\n",
            "\n",
            "{'role': 'assistant', 'content': 'Please confirm your appointment details. Dr. Lisa Chen, Dermatologist, available on Tuesdays and Thursdays from 2pm to 6pm, consultation cost 500 EGP.'}\n"
          ]
        }
      ],
      "source": [
        "client_issue = \"I have a rash on my skin\"\n",
        "context.append({\"role\": \"assistant\", \"content\": output})\n",
        "context.append({\"role\": \"user\", \"content\": client_issue})\n",
        "output = get_response_hf(pipe, context)\n",
        "print(output)"
      ]
    },
    {
      "cell_type": "code",
      "execution_count": 12,
      "metadata": {
        "colab": {
          "base_uri": "https://localhost:8080/"
        },
        "id": "UtnaiG9Uqr8W",
        "outputId": "ab1b8f01-06ed-43bb-a9e4-20d68b5d57dc"
      },
      "outputs": [
        {
          "name": "stderr",
          "output_type": "stream",
          "text": [
            "The following generation flags are not valid and may be ignored: ['temperature', 'top_p']. Set `TRANSFORMERS_VERBOSITY=info` for more details.\n"
          ]
        },
        {
          "name": "stdout",
          "output_type": "stream",
          "text": [
            "{'role': 'assistant', 'content': 'You have a rash on your skin. I recommend Dr. Lisa Chen, Dermatologist. Dr. Lisa Chen is available on Tuesdays and Thursdays from 2pm to 6pm. The consultation cost is 500 EGP. Would you like to schedule an appointment with Dr. Lisa Chen?'}\n"
          ]
        }
      ],
      "source": [
        "context.append({\"role\":\"assistant\",\"content\":output})\n",
        "context.append({\"role\":\"user\",\"content\":\"I want to schedule an appointment at 4pm on wednesday\"})\n",
        "output = get_response_hf(pipe,context)\n",
        "print(output)"
      ]
    }
  ],
  "metadata": {
    "kernelspec": {
      "display_name": "base",
      "language": "python",
      "name": "python3"
    },
    "language_info": {
      "codemirror_mode": {
        "name": "ipython",
        "version": 3
      },
      "file_extension": ".py",
      "mimetype": "text/x-python",
      "name": "python",
      "nbconvert_exporter": "python",
      "pygments_lexer": "ipython3",
      "version": "3.12.7"
    }
  },
  "nbformat": 4,
  "nbformat_minor": 0
}
